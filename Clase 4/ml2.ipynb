{
 "cells": [
  {
   "cell_type": "code",
   "execution_count": 55,
   "id": "f4a39737",
   "metadata": {},
   "outputs": [],
   "source": [
    "import mlflow\n",
    "from mlflow.client import MlflowClient\n",
    "\n",
    "\n",
    "import sklearn\n",
    "from sklearn.tree import DecisionTreeClassifier\n",
    "from sklearn.svm import SVC\n",
    "from sklearn.linear_model import LogisticRegression\n",
    "from sklearn.model_selection import train_test_split\n",
    "import numpy  as np\n",
    "from numpy import random as rd\n",
    "from matplotlib import pyplot as plt\n",
    "\n",
    "\n",
    "from sklearn import svm, datasets\n",
    "from sklearn.model_selection import GridSearchCV\n",
    "\n",
    "import pandas as pd"
   ]
  },
  {
   "cell_type": "markdown",
   "id": "1d8dc815",
   "metadata": {},
   "source": [
    "# Generando data sintetica"
   ]
  },
  {
   "cell_type": "code",
   "execution_count": 2,
   "id": "533ef115",
   "metadata": {},
   "outputs": [],
   "source": [
    "num_data = 10**3\n",
    "\n",
    "x1 = rd.normal(loc = 0, size = num_data)\n",
    "x2 = rd.normal(loc = 4, size = num_data)"
   ]
  },
  {
   "cell_type": "code",
   "execution_count": 3,
   "id": "2f602639",
   "metadata": {},
   "outputs": [
    {
     "data": {
      "image/png": "[encoded data removed]",
      "text/plain": [
       "<Figure size 432x288 with 1 Axes>"
      ]
     },
     "metadata": {
      "needs_background": "light"
     },
     "output_type": "display_data"
    }
   ],
   "source": [
    "plt.hist(x1, bins = 20)\n",
    "plt.hist(x2, bins = 20)\n",
    "\n",
    "plt.show()"
   ]
  },
  {
   "cell_type": "code",
   "execution_count": 4,
   "id": "4a58313d",
   "metadata": {},
   "outputs": [
    {
     "data": {
      "text/html": [
       "<div>\n",
       "<style scoped>\n",
       "    .dataframe tbody tr th:only-of-type {\n",
       "        vertical-align: middle;\n",
       "    }\n",
       "\n",
       "    .dataframe tbody tr th {\n",
       "        vertical-align: top;\n",
       "    }\n",
       "\n",
       "    .dataframe thead th {\n",
       "        text-align: right;\n",
       "    }\n",
       "</style>\n",
       "<table border=\"1\" class=\"dataframe\">\n",
       "  <thead>\n",
       "    <tr style=\"text-align: right;\">\n",
       "      <th></th>\n",
       "      <th>X</th>\n",
       "      <th>y</th>\n",
       "    </tr>\n",
       "  </thead>\n",
       "  <tbody>\n",
       "    <tr>\n",
       "      <th>0</th>\n",
       "      <td>-1.839968</td>\n",
       "      <td>0</td>\n",
       "    </tr>\n",
       "    <tr>\n",
       "      <th>1</th>\n",
       "      <td>0.943447</td>\n",
       "      <td>0</td>\n",
       "    </tr>\n",
       "    <tr>\n",
       "      <th>2</th>\n",
       "      <td>-1.168912</td>\n",
       "      <td>0</td>\n",
       "    </tr>\n",
       "    <tr>\n",
       "      <th>3</th>\n",
       "      <td>0.858790</td>\n",
       "      <td>0</td>\n",
       "    </tr>\n",
       "    <tr>\n",
       "      <th>4</th>\n",
       "      <td>0.340871</td>\n",
       "      <td>0</td>\n",
       "    </tr>\n",
       "    <tr>\n",
       "      <th>...</th>\n",
       "      <td>...</td>\n",
       "      <td>...</td>\n",
       "    </tr>\n",
       "    <tr>\n",
       "      <th>1995</th>\n",
       "      <td>4.772970</td>\n",
       "      <td>1</td>\n",
       "    </tr>\n",
       "    <tr>\n",
       "      <th>1996</th>\n",
       "      <td>5.047226</td>\n",
       "      <td>1</td>\n",
       "    </tr>\n",
       "    <tr>\n",
       "      <th>1997</th>\n",
       "      <td>4.295886</td>\n",
       "      <td>1</td>\n",
       "    </tr>\n",
       "    <tr>\n",
       "      <th>1998</th>\n",
       "      <td>5.087524</td>\n",
       "      <td>1</td>\n",
       "    </tr>\n",
       "    <tr>\n",
       "      <th>1999</th>\n",
       "      <td>5.296764</td>\n",
       "      <td>1</td>\n",
       "    </tr>\n",
       "  </tbody>\n",
       "</table>\n",
       "<p>2000 rows × 2 columns</p>\n",
       "</div>"
      ],
      "text/plain": [
       "             X  y\n",
       "0    -1.839968  0\n",
       "1     0.943447  0\n",
       "2    -1.168912  0\n",
       "3     0.858790  0\n",
       "4     0.340871  0\n",
       "...        ... ..\n",
       "1995  4.772970  1\n",
       "1996  5.047226  1\n",
       "1997  4.295886  1\n",
       "1998  5.087524  1\n",
       "1999  5.296764  1\n",
       "\n",
       "[2000 rows x 2 columns]"
      ]
     },
     "execution_count": 4,
     "metadata": {},
     "output_type": "execute_result"
    }
   ],
   "source": [
    "df = pd.DataFrame({'X':[*x1] + [*x2],'y':[0]*num_data + [1]*num_data})\n",
    "df "
   ]
  },
  {
   "cell_type": "markdown",
   "id": "9a6fea8e",
   "metadata": {},
   "source": [
    "# Fiteando un modelo cualquiera\n",
    "### La pregunta es? Una vez fiteado que hago con él? "
   ]
  },
  {
   "cell_type": "code",
   "execution_count": 5,
   "id": "9ac7ac38",
   "metadata": {},
   "outputs": [
    {
     "data": {
      "text/plain": [
       "DecisionTreeClassifier(max_depth=1)"
      ]
     },
     "execution_count": 5,
     "metadata": {},
     "output_type": "execute_result"
    }
   ],
   "source": [
    "model = DecisionTreeClassifier(max_depth = 1)\n",
    "model.fit(df[['X']],df['y'])"
   ]
  },
  {
   "cell_type": "code",
   "execution_count": 8,
   "id": "ce8f94d6",
   "metadata": {},
   "outputs": [
    {
     "data": {
      "image/png": "[encoded data removed]",
      "text/plain": [
       "<Figure size 432x288 with 1 Axes>"
      ]
     },
     "metadata": {
      "needs_background": "light"
     },
     "output_type": "display_data"
    }
   ],
   "source": [
    "plt.vlines(model.tree_.threshold[0],0,140, color = 'red')\n",
    "\n",
    "plt.hist(x1, bins = 20)\n",
    "plt.hist(x2, bins = 20)\n",
    "\n",
    "plt.show()"
   ]
  },
  {
   "cell_type": "markdown",
   "id": "4b23526a",
   "metadata": {},
   "source": [
    "# Guardo mi modelo usando mlflow"
   ]
  },
  {
   "cell_type": "code",
   "execution_count": 12,
   "id": "121c4f4a",
   "metadata": {},
   "outputs": [],
   "source": [
    "with mlflow.start_run():\n",
    "    model = DecisionTreeClassifier(max_depth = 1)\n",
    "    model.fit(df[['X']],df['y'])\n",
    "    \n",
    "    mlflow.sklearn.log_model(model,'model')\n",
    "    mlflow.set_tag('developer','camilo')\n",
    "    \n",
    "    \n",
    "    train_accuracy = (model.predict(df[['X']]) == df['y']).mean()\n",
    "    \n",
    "    mlflow.log_metric('train_accuracy',train_accuracy)"
   ]
  },
  {
   "cell_type": "markdown",
   "id": "f38edd87",
   "metadata": {},
   "source": [
    "# Usando el autolog muchas metricas se guardan solas..."
   ]
  },
  {
   "cell_type": "code",
   "execution_count": null,
   "id": "f7d44386",
   "metadata": {},
   "outputs": [],
   "source": [
    "mlflow.sklearn.autolog()\n",
    "\n",
    "X_train, X_test, y_train, y_test = train_test_split(df[['X']], df['y'])"
   ]
  },
  {
   "cell_type": "code",
   "execution_count": 20,
   "id": "90d1c992",
   "metadata": {},
   "outputs": [],
   "source": [
    "with mlflow.start_run():\n",
    "    model = DecisionTreeClassifier(max_depth = 1)\n",
    "    model.fit(X_train[['X']],y_train)\n",
    "    \n",
    "    mlflow.set_tag('developer','camilo')\n",
    "    \n",
    "    \n",
    "    test_acc = (model.predict(X_test[['X']]) == y_test).mean()\n",
    "    \n",
    "    mlflow.log_metric('test_acc',test_acc)"
   ]
  },
  {
   "cell_type": "code",
   "execution_count": null,
   "id": "5315b8e5",
   "metadata": {},
   "outputs": [],
   "source": [
    "with mlflow.start_run():\n",
    "    model = SVC(max_depth = 1)\n",
    "    model.fit(X_train[['X']],y_train)\n",
    "    \n",
    "    mlflow.set_tag('developer','camilo')\n",
    "    \n",
    "    \n",
    "    test_acc = (model.predict(X_test[['X']]) == y_test).mean()\n",
    "    \n",
    "    mlflow.log_metric('test_acc',test_acc)"
   ]
  },
  {
   "cell_type": "code",
   "execution_count": null,
   "id": "d511f923",
   "metadata": {},
   "outputs": [],
   "source": [
    "with mlflow.start_run():\n",
    "    model = LogisticRegression(max_depth = 1)\n",
    "    model.fit(X_train[['X']],y_train)\n",
    "    \n",
    "    mlflow.set_tag('developer','camilo')\n",
    "    \n",
    "    \n",
    "    test_acc = (model.predict(X_test[['X']]) == y_test).mean()\n",
    "    \n",
    "    mlflow.log_metric('test_acc',test_acc)"
   ]
  },
  {
   "cell_type": "markdown",
   "id": "7aeb06e3",
   "metadata": {},
   "source": [
    "# Tarea: Reescribir estos pedazos de código que hacen cosas repetidas en uan sola función."
   ]
  },
  {
   "cell_type": "markdown",
   "id": "754883c1",
   "metadata": {},
   "source": [
    "# Gracias a mlflow puedo acceder a las métricas de cada run/modelo fiteado"
   ]
  },
  {
   "cell_type": "code",
   "execution_count": 24,
   "id": "b984e85e",
   "metadata": {},
   "outputs": [
    {
     "data": {
      "text/html": [
       "<div>\n",
       "<style scoped>\n",
       "    .dataframe tbody tr th:only-of-type {\n",
       "        vertical-align: middle;\n",
       "    }\n",
       "\n",
       "    .dataframe tbody tr th {\n",
       "        vertical-align: top;\n",
       "    }\n",
       "\n",
       "    .dataframe thead th {\n",
       "        text-align: right;\n",
       "    }\n",
       "</style>\n",
       "<table border=\"1\" class=\"dataframe\">\n",
       "  <thead>\n",
       "    <tr style=\"text-align: right;\">\n",
       "      <th></th>\n",
       "      <th>run_id</th>\n",
       "      <th>experiment_id</th>\n",
       "      <th>status</th>\n",
       "      <th>artifact_uri</th>\n",
       "      <th>start_time</th>\n",
       "      <th>end_time</th>\n",
       "      <th>metrics.training_score</th>\n",
       "      <th>metrics.training_precision_score</th>\n",
       "      <th>metrics.training_recall_score</th>\n",
       "      <th>metrics.train_accuracy</th>\n",
       "      <th>...</th>\n",
       "      <th>params.decision_function_shape</th>\n",
       "      <th>params.break_ties</th>\n",
       "      <th>params.shrinking</th>\n",
       "      <th>tags.estimator_class</th>\n",
       "      <th>tags.estimator_name</th>\n",
       "      <th>tags.mlflow.source.name</th>\n",
       "      <th>tags.developer</th>\n",
       "      <th>tags.mlflow.source.type</th>\n",
       "      <th>tags.mlflow.user</th>\n",
       "      <th>tags.mlflow.log-model.history</th>\n",
       "    </tr>\n",
       "  </thead>\n",
       "  <tbody>\n",
       "    <tr>\n",
       "      <th>0</th>\n",
       "      <td>8820681460e148bfbc745845523ff801</td>\n",
       "      <td>0</td>\n",
       "      <td>FINISHED</td>\n",
       "      <td>file:///Users/camiloamadio/Desktop/Untitled%20...</td>\n",
       "      <td>2022-09-24 14:04:46.897000+00:00</td>\n",
       "      <td>2022-09-24 14:04:50.906000+00:00</td>\n",
       "      <td>0.976667</td>\n",
       "      <td>0.976667</td>\n",
       "      <td>0.976667</td>\n",
       "      <td>0.976667</td>\n",
       "      <td>...</td>\n",
       "      <td>None</td>\n",
       "      <td>None</td>\n",
       "      <td>None</td>\n",
       "      <td>sklearn.linear_model._logistic.LogisticRegression</td>\n",
       "      <td>LogisticRegression</td>\n",
       "      <td>/Users/camiloamadio/miniconda3/lib/python3.9/s...</td>\n",
       "      <td>camilo</td>\n",
       "      <td>LOCAL</td>\n",
       "      <td>camiloamadio</td>\n",
       "      <td>[{\"run_id\": \"8820681460e148bfbc745845523ff801\"...</td>\n",
       "    </tr>\n",
       "    <tr>\n",
       "      <th>1</th>\n",
       "      <td>e9b9882388374b2da6466e90cd3039b6</td>\n",
       "      <td>0</td>\n",
       "      <td>FINISHED</td>\n",
       "      <td>file:///Users/camiloamadio/Desktop/Untitled%20...</td>\n",
       "      <td>2022-09-24 14:00:28.249000+00:00</td>\n",
       "      <td>2022-09-24 14:00:31.977000+00:00</td>\n",
       "      <td>0.978667</td>\n",
       "      <td>0.978679</td>\n",
       "      <td>0.978667</td>\n",
       "      <td>0.978667</td>\n",
       "      <td>...</td>\n",
       "      <td>None</td>\n",
       "      <td>None</td>\n",
       "      <td>None</td>\n",
       "      <td>sklearn.tree._classes.DecisionTreeClassifier</td>\n",
       "      <td>DecisionTreeClassifier</td>\n",
       "      <td>/Users/camiloamadio/miniconda3/lib/python3.9/s...</td>\n",
       "      <td>camilo</td>\n",
       "      <td>LOCAL</td>\n",
       "      <td>camiloamadio</td>\n",
       "      <td>[{\"run_id\": \"e9b9882388374b2da6466e90cd3039b6\"...</td>\n",
       "    </tr>\n",
       "    <tr>\n",
       "      <th>2</th>\n",
       "      <td>793d83c0e3414e69bf19eb416ad712b6</td>\n",
       "      <td>0</td>\n",
       "      <td>FINISHED</td>\n",
       "      <td>file:///Users/camiloamadio/Desktop/Untitled%20...</td>\n",
       "      <td>2022-09-24 14:00:22.625000+00:00</td>\n",
       "      <td>2022-09-24 14:00:26.983000+00:00</td>\n",
       "      <td>0.976667</td>\n",
       "      <td>0.976668</td>\n",
       "      <td>0.976667</td>\n",
       "      <td>0.976667</td>\n",
       "      <td>...</td>\n",
       "      <td>ovr</td>\n",
       "      <td>False</td>\n",
       "      <td>True</td>\n",
       "      <td>sklearn.svm._classes.SVC</td>\n",
       "      <td>SVC</td>\n",
       "      <td>/Users/camiloamadio/miniconda3/lib/python3.9/s...</td>\n",
       "      <td>camilo</td>\n",
       "      <td>LOCAL</td>\n",
       "      <td>camiloamadio</td>\n",
       "      <td>[{\"run_id\": \"793d83c0e3414e69bf19eb416ad712b6\"...</td>\n",
       "    </tr>\n",
       "  </tbody>\n",
       "</table>\n",
       "<p>3 rows × 56 columns</p>\n",
       "</div>"
      ],
      "text/plain": [
       "                             run_id experiment_id    status  \\\n",
       "0  8820681460e148bfbc745845523ff801             0  FINISHED   \n",
       "1  e9b9882388374b2da6466e90cd3039b6             0  FINISHED   \n",
       "2  793d83c0e3414e69bf19eb416ad712b6             0  FINISHED   \n",
       "\n",
       "                                        artifact_uri  \\\n",
       "0  file:///Users/camiloamadio/Desktop/Untitled%20...   \n",
       "1  file:///Users/camiloamadio/Desktop/Untitled%20...   \n",
       "2  file:///Users/camiloamadio/Desktop/Untitled%20...   \n",
       "\n",
       "                        start_time                         end_time  \\\n",
       "0 2022-09-24 14:04:46.897000+00:00 2022-09-24 14:04:50.906000+00:00   \n",
       "1 2022-09-24 14:00:28.249000+00:00 2022-09-24 14:00:31.977000+00:00   \n",
       "2 2022-09-24 14:00:22.625000+00:00 2022-09-24 14:00:26.983000+00:00   \n",
       "\n",
       "   metrics.training_score  metrics.training_precision_score  \\\n",
       "0                0.976667                          0.976667   \n",
       "1                0.978667                          0.978679   \n",
       "2                0.976667                          0.976668   \n",
       "\n",
       "   metrics.training_recall_score  metrics.train_accuracy  ...  \\\n",
       "0                       0.976667                0.976667  ...   \n",
       "1                       0.978667                0.978667  ...   \n",
       "2                       0.976667                0.976667  ...   \n",
       "\n",
       "   params.decision_function_shape  params.break_ties  params.shrinking  \\\n",
       "0                            None               None              None   \n",
       "1                            None               None              None   \n",
       "2                             ovr              False              True   \n",
       "\n",
       "                                tags.estimator_class     tags.estimator_name  \\\n",
       "0  sklearn.linear_model._logistic.LogisticRegression      LogisticRegression   \n",
       "1       sklearn.tree._classes.DecisionTreeClassifier  DecisionTreeClassifier   \n",
       "2                           sklearn.svm._classes.SVC                     SVC   \n",
       "\n",
       "                             tags.mlflow.source.name tags.developer  \\\n",
       "0  /Users/camiloamadio/miniconda3/lib/python3.9/s...         camilo   \n",
       "1  /Users/camiloamadio/miniconda3/lib/python3.9/s...         camilo   \n",
       "2  /Users/camiloamadio/miniconda3/lib/python3.9/s...         camilo   \n",
       "\n",
       "  tags.mlflow.source.type tags.mlflow.user  \\\n",
       "0                   LOCAL     camiloamadio   \n",
       "1                   LOCAL     camiloamadio   \n",
       "2                   LOCAL     camiloamadio   \n",
       "\n",
       "                       tags.mlflow.log-model.history  \n",
       "0  [{\"run_id\": \"8820681460e148bfbc745845523ff801\"...  \n",
       "1  [{\"run_id\": \"e9b9882388374b2da6466e90cd3039b6\"...  \n",
       "2  [{\"run_id\": \"793d83c0e3414e69bf19eb416ad712b6\"...  \n",
       "\n",
       "[3 rows x 56 columns]"
      ]
     },
     "execution_count": 24,
     "metadata": {},
     "output_type": "execute_result"
    }
   ],
   "source": [
    "#Buscar los runs en el servidor \n",
    "runs =  mlflow.search_runs()\n",
    "runs"
   ]
  },
  {
   "cell_type": "code",
   "execution_count": 35,
   "id": "28518ac7",
   "metadata": {},
   "outputs": [
    {
     "data": {
      "text/plain": [
       "'8820681460e148bfbc745845523ff801'"
      ]
     },
     "execution_count": 35,
     "metadata": {},
     "output_type": "execute_result"
    }
   ],
   "source": [
    "best_model_run_id = runs.sort_values(by = ['metrics.test_accuracy'], ascending = False).iloc[0]['run_id']\n",
    "best_model_run_id"
   ]
  },
  {
   "cell_type": "code",
   "execution_count": 37,
   "id": "dddb64d5",
   "metadata": {},
   "outputs": [],
   "source": [
    "#Cargar el modelo como la libreria nativa en la que fue guardada\n",
    "best_model = mlflow.sklearn.load_model(\n",
    "    f'/Users/camiloamadio/Desktop/Untitled Folder/mlruns/0/{best_model_run_id}/artifacts/model')"
   ]
  },
  {
   "cell_type": "code",
   "execution_count": 51,
   "id": "c544ae4b",
   "metadata": {},
   "outputs": [
    {
     "data": {
      "text/plain": [
       "LogisticRegression()"
      ]
     },
     "execution_count": 51,
     "metadata": {},
     "output_type": "execute_result"
    }
   ],
   "source": [
    "best_model"
   ]
  },
  {
   "cell_type": "code",
   "execution_count": 44,
   "id": "38a8a409",
   "metadata": {},
   "outputs": [],
   "source": [
    "#cagar el modelo como un wrapper de mlflow\n",
    "best_model_pyfunc = mlflow.pyfunc.load_model(\n",
    "    f'/Users/camiloamadio/Desktop/Untitled Folder/mlruns/0/{best_model_run_id}/artifacts/model')"
   ]
  },
  {
   "cell_type": "code",
   "execution_count": null,
   "id": "d3e0726e",
   "metadata": {},
   "outputs": [],
   "source": [
    "best_model_pyfunc"
   ]
  },
  {
   "cell_type": "code",
   "execution_count": null,
   "id": "fd3f7bab",
   "metadata": {},
   "outputs": [],
   "source": [
    "#Ver la implementación del modelo\n",
    "best_model_pyfunc._model_impl"
   ]
  },
  {
   "cell_type": "markdown",
   "id": "409dac79",
   "metadata": {},
   "source": [
    "# Feature importante de mlflow, ya se encarga automaticamente del tunning"
   ]
  },
  {
   "cell_type": "code",
   "execution_count": 61,
   "id": "49fa016b",
   "metadata": {},
   "outputs": [
    {
     "name": "stderr",
     "output_type": "stream",
     "text": [
      "2022/09/24 11:26:21 INFO mlflow.utils.autologging_utils: Created MLflow autologging run with ID '8e1c206b8c484f78a5856d27a2918847', which will track hyperparameters, performance metrics, model artifacts, and lineage information for the current sklearn workflow\n",
      "2022/09/24 11:26:24 INFO mlflow.sklearn.utils: Logging the 5 best runs, no runs will be omitted.\n"
     ]
    },
    {
     "data": {
      "text/plain": [
       "GridSearchCV(estimator=SVC(),\n",
       "             param_grid={'C': [1, 10], 'kernel': ('linear', 'rbf')})"
      ]
     },
     "execution_count": 61,
     "metadata": {},
     "output_type": "execute_result"
    }
   ],
   "source": [
    "#Ver que al hacer un grid search se guardan los child runs\n",
    "iris = datasets.load_iris()\n",
    "parameters = {'kernel':('linear', 'rbf'), 'C':[1, 10]}\n",
    "svc = svm.SVC()\n",
    "clf = GridSearchCV(svc, parameters)\n",
    "clf.fit(iris.data, iris.target)"
   ]
  },
  {
   "cell_type": "markdown",
   "id": "e896558a",
   "metadata": {},
   "source": [
    "# Para registrar modelos hay que decirle a mlflow donde está la base de datos que se va a usar"
   ]
  },
  {
   "cell_type": "code",
   "execution_count": null,
   "id": "f6ae9eba",
   "metadata": {},
   "outputs": [],
   "source": [
    "mlflow.set_registry_uri('sqlite:///mlruns.db')\n",
    "\n",
    "client = mlflow.client.MlflowClient()"
   ]
  },
  {
   "cell_type": "code",
   "execution_count": 67,
   "id": "0dcad528",
   "metadata": {},
   "outputs": [
    {
     "name": "stderr",
     "output_type": "stream",
     "text": [
      "Successfully registered model 'model_churn'.\n",
      "2022/09/24 12:11:41 INFO mlflow.tracking._model_registry.client: Waiting up to 300 seconds for model version to finish creation.                     Model name: model_churn, version 1\n",
      "Created version '1' of model 'model_churn'.\n"
     ]
    },
    {
     "data": {
      "text/plain": [
       "<ModelVersion: creation_timestamp=1664032301899, current_stage='None', description=None, last_updated_timestamp=1664032301899, name='model_churn', run_id=None, run_link=None, source=('/Users/camiloamadio/Desktop/Untitled '\n",
       " 'Folder/mlruns/0/8820681460e148bfbc745845523ff801/artifacts/model'), status='READY', status_message=None, tags={}, user_id=None, version=1>"
      ]
     },
     "execution_count": 67,
     "metadata": {},
     "output_type": "execute_result"
    }
   ],
   "source": [
    "#Creo la primera versión\n",
    "mlflow.register_model(f'/Users/camiloamadio/Desktop/Untitled Folder/mlruns/0/{best_model_run_id}/artifacts/model',\n",
    "                     'model_churn')"
   ]
  },
  {
   "cell_type": "code",
   "execution_count": 68,
   "id": "89804cde",
   "metadata": {},
   "outputs": [
    {
     "name": "stderr",
     "output_type": "stream",
     "text": [
      "Registered model 'model_churn' already exists. Creating a new version of this model...\n",
      "2022/09/24 12:12:52 INFO mlflow.tracking._model_registry.client: Waiting up to 300 seconds for model version to finish creation.                     Model name: model_churn, version 2\n",
      "Created version '2' of model 'model_churn'.\n"
     ]
    },
    {
     "data": {
      "text/plain": [
       "<ModelVersion: creation_timestamp=1664032372670, current_stage='None', description=None, last_updated_timestamp=1664032372670, name='model_churn', run_id=None, run_link=None, source=('/Users/camiloamadio/Desktop/Untitled '\n",
       " 'Folder/mlruns/0/8820681460e148bfbc745845523ff801/artifacts/model'), status='READY', status_message=None, tags={}, user_id=None, version=2>"
      ]
     },
     "execution_count": 68,
     "metadata": {},
     "output_type": "execute_result"
    }
   ],
   "source": [
    "#Creo una nueva version\n",
    "mlflow.register_model(f'/Users/camiloamadio/Desktop/Untitled Folder/mlruns/0/{best_model_run_id}/artifacts/model',\n",
    "                     'model_churn')"
   ]
  },
  {
   "cell_type": "code",
   "execution_count": 78,
   "id": "f81be3e6",
   "metadata": {},
   "outputs": [
    {
     "data": {
      "text/plain": [
       "LogisticRegression()"
      ]
     },
     "execution_count": 78,
     "metadata": {},
     "output_type": "execute_result"
    }
   ],
   "source": [
    "#Puedo levantar mi modelo por versiones o por estadío\n",
    "mlflow.sklearn.load_model('models:/model_churn/2')"
   ]
  },
  {
   "cell_type": "code",
   "execution_count": 79,
   "id": "0ff107b4",
   "metadata": {},
   "outputs": [
    {
     "data": {
      "text/plain": [
       "mlflow.pyfunc.loaded_model:\n",
       "  artifact_path: model\n",
       "  flavor: mlflow.sklearn\n",
       "  run_id: 8820681460e148bfbc745845523ff801"
      ]
     },
     "execution_count": 79,
     "metadata": {},
     "output_type": "execute_result"
    }
   ],
   "source": [
    "mlflow.pyfunc.load_model('models:/model_churn/2')"
   ]
  },
  {
   "cell_type": "code",
   "execution_count": 84,
   "id": "786d85b3",
   "metadata": {},
   "outputs": [],
   "source": [
    "#Asumiendo que ya se pasó un modelo a producción y otro a staging usando la UI\n",
    "model_prod    = mlflow.pyfunc.load_model('models:/model_churn/production')\n",
    "model_staging = mlflow.pyfunc.load_model('models:/model_churn/staging')"
   ]
  },
  {
   "cell_type": "code",
   "execution_count": 93,
   "id": "f9d9b390",
   "metadata": {},
   "outputs": [],
   "source": [
    "#Asumiendo que ya hay un proceso que recolecta la ground truth y lo puedo levantar desde python \n",
    "\n",
    "accuracy_model_prod = (model_prod.predict(df[['X']]) == df['y']).mean()\n",
    "accuracy_model_staging = (model_staging.predict(df[['X']]) == df['y']).mean()"
   ]
  },
  {
   "cell_type": "code",
   "execution_count": 116,
   "id": "08a1d4a0",
   "metadata": {},
   "outputs": [],
   "source": [
    "if accuracy_model_staging > accuracy_model_prod:\n",
    "    \n",
    "    current_version_staging_model = list(filter(lambda row: row.current_stage == 'Staging', \n",
    "                                                client.get_latest_versions('model_churn')))[0].version\n",
    "    \n",
    "    client.transition_model_version_stage('model_churn', \n",
    "                                          current_version_staging_model,\n",
    "                                          \"production\", \n",
    "                                          archive_existing_versions = True)"
   ]
  }
 ],
 "metadata": {
  "kernelspec": {
   "display_name": "Python 3",
   "language": "python",
   "name": "python3"
  },
  "language_info": {
   "codemirror_mode": {
    "name": "ipython",
    "version": 3
   },
   "file_extension": ".py",
   "mimetype": "text/x-python",
   "name": "python",
   "nbconvert_exporter": "python",
   "pygments_lexer": "ipython3",
   "version": "3.9.5"
  }
 },
 "nbformat": 4,
 "nbformat_minor": 5
}
