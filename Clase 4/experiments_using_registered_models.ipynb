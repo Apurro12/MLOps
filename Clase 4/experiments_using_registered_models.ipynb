{
 "cells": [
  {
   "cell_type": "code",
   "execution_count": 1,
   "id": "89ff220b",
   "metadata": {},
   "outputs": [],
   "source": [
    "import mlflow\n",
    "from sklearn.tree import DecisionTreeClassifier\n",
    "from sklearn.datasets import load_iris\n",
    "from sklearn.svm import SVC\n",
    "from sklearn.linear_model import LogisticRegression"
   ]
  },
  {
   "cell_type": "code",
   "execution_count": 2,
   "id": "357e7e2c",
   "metadata": {},
   "outputs": [
    {
     "data": {
      "text/plain": [
       "'http://127.0.0.1:5000/'"
      ]
     },
     "execution_count": 2,
     "metadata": {},
     "output_type": "execute_result"
    }
   ],
   "source": [
    "#In windows, before runs this command, is necesary to run\n",
    "#mlflow server in the terminal\n",
    "mlflow.tracking.set_tracking_uri(\"http://127.0.0.1:5000/\")\n",
    "mlflow.get_tracking_uri()"
   ]
  },
  {
   "cell_type": "code",
   "execution_count": 3,
   "id": "3e2635a5",
   "metadata": {},
   "outputs": [],
   "source": [
    "client = mlflow.client.MlflowClient()"
   ]
  },
  {
   "cell_type": "code",
   "execution_count": 4,
   "id": "96fe50a6",
   "metadata": {},
   "outputs": [],
   "source": [
    "data = load_iris()"
   ]
  },
  {
   "cell_type": "code",
   "execution_count": 5,
   "id": "c511ce89",
   "metadata": {},
   "outputs": [],
   "source": [
    "mlflow.sklearn.autolog()"
   ]
  },
  {
   "cell_type": "markdown",
   "id": "a839efb0",
   "metadata": {},
   "source": [
    "# Train and log some models"
   ]
  },
  {
   "cell_type": "code",
   "execution_count": 6,
   "id": "411cedbf",
   "metadata": {},
   "outputs": [
    {
     "name": "stderr",
     "output_type": "stream",
     "text": [
      "2023/04/01 21:34:53 WARNING mlflow.utils.git_utils: Failed to import Git (the Git executable is probably not on your PATH), so Git SHA is not available. Error: Failed to initialize: Bad git executable.\n",
      "The git executable must be specified in one of the following ways:\n",
      "    - be included in your $PATH\n",
      "    - be set via $GIT_PYTHON_GIT_EXECUTABLE\n",
      "    - explicitly set via git.refresh()\n",
      "\n",
      "All git commands will error until this is rectified.\n",
      "\n",
      "This initial warning can be silenced or aggravated in the future by setting the\n",
      "$GIT_PYTHON_REFRESH environment variable. Use one of the following values:\n",
      "    - quiet|q|silence|s|none|n|0: for no warning or exception\n",
      "    - warn|w|warning|1: for a printed warning\n",
      "    - error|e|raise|r|2: for a raised exception\n",
      "\n",
      "Example:\n",
      "    export GIT_PYTHON_REFRESH=quiet\n",
      "\n",
      "D:\\miniconda3\\envs\\mlops\\lib\\site-packages\\sklearn\\metrics\\_classification.py:1344: UndefinedMetricWarning: Precision is ill-defined and being set to 0.0 in labels with no predicted samples. Use `zero_division` parameter to control this behavior.\n",
      "  _warn_prf(average, modifier, msg_start, len(result))\n",
      "2023/04/01 21:35:04 WARNING mlflow.utils.autologging_utils: MLflow autologging encountered a warning: \"D:\\miniconda3\\envs\\mlops\\lib\\site-packages\\_distutils_hack\\__init__.py:33: UserWarning: Setuptools is replacing distutils.\"\n"
     ]
    }
   ],
   "source": [
    "with mlflow.start_run():\n",
    "    model = DecisionTreeClassifier(max_depth = 1)\n",
    "    model.fit(data.data,data.target)\n",
    "    \n",
    "    mlflow.sklearn.log_model(model,'model')\n",
    "    mlflow.set_tag('developer','camilo')"
   ]
  },
  {
   "cell_type": "code",
   "execution_count": 7,
   "id": "cce70e2d",
   "metadata": {},
   "outputs": [],
   "source": [
    "with mlflow.start_run():\n",
    "    model = DecisionTreeClassifier(max_depth = 2)\n",
    "    model.fit(data.data,data.target)\n",
    "    \n",
    "    mlflow.sklearn.log_model(model,'model')\n",
    "    mlflow.set_tag('developer','camilo')"
   ]
  },
  {
   "cell_type": "code",
   "execution_count": 8,
   "id": "8178886d",
   "metadata": {},
   "outputs": [],
   "source": [
    "#Este modelo esta overfiteando, ya se, es solo para simular el escenario que queremos ver\n",
    "with mlflow.start_run():\n",
    "    model = DecisionTreeClassifier(max_depth = 5)\n",
    "    model.fit(data.data,data.target)\n",
    "    \n",
    "    mlflow.sklearn.log_model(model,'model')\n",
    "    mlflow.set_tag('developer','camilo')"
   ]
  },
  {
   "cell_type": "markdown",
   "id": "b252ea76",
   "metadata": {},
   "source": [
    "# Seleciona algunos modelos para promover"
   ]
  },
  {
   "cell_type": "code",
   "execution_count": 9,
   "id": "000d39aa",
   "metadata": {},
   "outputs": [
    {
     "data": {
      "text/html": [
       "<div>\n",
       "<style scoped>\n",
       "    .dataframe tbody tr th:only-of-type {\n",
       "        vertical-align: middle;\n",
       "    }\n",
       "\n",
       "    .dataframe tbody tr th {\n",
       "        vertical-align: top;\n",
       "    }\n",
       "\n",
       "    .dataframe thead th {\n",
       "        text-align: right;\n",
       "    }\n",
       "</style>\n",
       "<table border=\"1\" class=\"dataframe\">\n",
       "  <thead>\n",
       "    <tr style=\"text-align: right;\">\n",
       "      <th></th>\n",
       "      <th>run_id</th>\n",
       "      <th>experiment_id</th>\n",
       "      <th>status</th>\n",
       "      <th>artifact_uri</th>\n",
       "      <th>start_time</th>\n",
       "      <th>end_time</th>\n",
       "      <th>metrics.training_roc_auc</th>\n",
       "      <th>metrics.training_log_loss</th>\n",
       "      <th>metrics.training_recall_score</th>\n",
       "      <th>metrics.training_accuracy_score</th>\n",
       "      <th>...</th>\n",
       "      <th>params.random_state</th>\n",
       "      <th>params.criterion</th>\n",
       "      <th>tags.developer</th>\n",
       "      <th>tags.mlflow.source.type</th>\n",
       "      <th>tags.mlflow.source.name</th>\n",
       "      <th>tags.mlflow.user</th>\n",
       "      <th>tags.mlflow.runName</th>\n",
       "      <th>tags.estimator_class</th>\n",
       "      <th>tags.mlflow.log-model.history</th>\n",
       "      <th>tags.estimator_name</th>\n",
       "    </tr>\n",
       "  </thead>\n",
       "  <tbody>\n",
       "    <tr>\n",
       "      <th>0</th>\n",
       "      <td>2412d39133e8473c99858cc31140fef7</td>\n",
       "      <td>0</td>\n",
       "      <td>FINISHED</td>\n",
       "      <td>mlflow-artifacts:/0/2412d39133e8473c99858cc311...</td>\n",
       "      <td>2023-04-02 00:35:21.552000+00:00</td>\n",
       "      <td>2023-04-02 00:35:33.556000+00:00</td>\n",
       "      <td>1.000000</td>\n",
       "      <td>4.440892e-16</td>\n",
       "      <td>1.000000</td>\n",
       "      <td>1.000000</td>\n",
       "      <td>...</td>\n",
       "      <td>None</td>\n",
       "      <td>gini</td>\n",
       "      <td>camilo</td>\n",
       "      <td>LOCAL</td>\n",
       "      <td>D:\\miniconda3\\envs\\mlops\\lib\\site-packages\\ipy...</td>\n",
       "      <td>camil</td>\n",
       "      <td>unequaled-yak-444</td>\n",
       "      <td>sklearn.tree._classes.DecisionTreeClassifier</td>\n",
       "      <td>[{\"run_id\": \"2412d39133e8473c99858cc31140fef7\"...</td>\n",
       "      <td>DecisionTreeClassifier</td>\n",
       "    </tr>\n",
       "    <tr>\n",
       "      <th>1</th>\n",
       "      <td>965ed109a0064242aec71922acab0cc7</td>\n",
       "      <td>0</td>\n",
       "      <td>FINISHED</td>\n",
       "      <td>mlflow-artifacts:/0/965ed109a0064242aec71922ac...</td>\n",
       "      <td>2023-04-02 00:35:09.780000+00:00</td>\n",
       "      <td>2023-04-02 00:35:21.462000+00:00</td>\n",
       "      <td>0.980000</td>\n",
       "      <td>1.431763e-01</td>\n",
       "      <td>0.960000</td>\n",
       "      <td>0.960000</td>\n",
       "      <td>...</td>\n",
       "      <td>None</td>\n",
       "      <td>gini</td>\n",
       "      <td>camilo</td>\n",
       "      <td>LOCAL</td>\n",
       "      <td>D:\\miniconda3\\envs\\mlops\\lib\\site-packages\\ipy...</td>\n",
       "      <td>camil</td>\n",
       "      <td>nebulous-grub-8</td>\n",
       "      <td>sklearn.tree._classes.DecisionTreeClassifier</td>\n",
       "      <td>[{\"run_id\": \"965ed109a0064242aec71922acab0cc7\"...</td>\n",
       "      <td>DecisionTreeClassifier</td>\n",
       "    </tr>\n",
       "    <tr>\n",
       "      <th>2</th>\n",
       "      <td>6d7c79fc1726426d9a607aea834c5632</td>\n",
       "      <td>0</td>\n",
       "      <td>FINISHED</td>\n",
       "      <td>mlflow-artifacts:/0/6d7c79fc1726426d9a607aea83...</td>\n",
       "      <td>2023-04-02 00:34:53.512000+00:00</td>\n",
       "      <td>2023-04-02 00:35:09.682000+00:00</td>\n",
       "      <td>0.833333</td>\n",
       "      <td>4.620981e-01</td>\n",
       "      <td>0.666667</td>\n",
       "      <td>0.666667</td>\n",
       "      <td>...</td>\n",
       "      <td>None</td>\n",
       "      <td>gini</td>\n",
       "      <td>camilo</td>\n",
       "      <td>LOCAL</td>\n",
       "      <td>D:\\miniconda3\\envs\\mlops\\lib\\site-packages\\ipy...</td>\n",
       "      <td>camil</td>\n",
       "      <td>whimsical-stag-650</td>\n",
       "      <td>sklearn.tree._classes.DecisionTreeClassifier</td>\n",
       "      <td>[{\"run_id\": \"6d7c79fc1726426d9a607aea834c5632\"...</td>\n",
       "      <td>DecisionTreeClassifier</td>\n",
       "    </tr>\n",
       "    <tr>\n",
       "      <th>3</th>\n",
       "      <td>90770df16a3e4fff8f532491b8d0e264</td>\n",
       "      <td>0</td>\n",
       "      <td>FINISHED</td>\n",
       "      <td>mlflow-artifacts:/0/90770df16a3e4fff8f532491b8...</td>\n",
       "      <td>2023-04-02 00:32:49.541000+00:00</td>\n",
       "      <td>2023-04-02 00:33:01.674000+00:00</td>\n",
       "      <td>1.000000</td>\n",
       "      <td>4.440892e-16</td>\n",
       "      <td>1.000000</td>\n",
       "      <td>1.000000</td>\n",
       "      <td>...</td>\n",
       "      <td>None</td>\n",
       "      <td>gini</td>\n",
       "      <td>camilo</td>\n",
       "      <td>LOCAL</td>\n",
       "      <td>D:\\miniconda3\\envs\\mlops\\lib\\site-packages\\ipy...</td>\n",
       "      <td>camil</td>\n",
       "      <td>loud-colt-128</td>\n",
       "      <td>sklearn.tree._classes.DecisionTreeClassifier</td>\n",
       "      <td>[{\"run_id\": \"90770df16a3e4fff8f532491b8d0e264\"...</td>\n",
       "      <td>DecisionTreeClassifier</td>\n",
       "    </tr>\n",
       "    <tr>\n",
       "      <th>4</th>\n",
       "      <td>17f6bdc5880044668d600c015b9ad5ba</td>\n",
       "      <td>0</td>\n",
       "      <td>FINISHED</td>\n",
       "      <td>mlflow-artifacts:/0/17f6bdc5880044668d600c015b...</td>\n",
       "      <td>2023-04-02 00:32:38.375000+00:00</td>\n",
       "      <td>2023-04-02 00:32:49.452000+00:00</td>\n",
       "      <td>0.980000</td>\n",
       "      <td>1.431763e-01</td>\n",
       "      <td>0.960000</td>\n",
       "      <td>0.960000</td>\n",
       "      <td>...</td>\n",
       "      <td>None</td>\n",
       "      <td>gini</td>\n",
       "      <td>camilo</td>\n",
       "      <td>LOCAL</td>\n",
       "      <td>D:\\miniconda3\\envs\\mlops\\lib\\site-packages\\ipy...</td>\n",
       "      <td>camil</td>\n",
       "      <td>amusing-shoat-937</td>\n",
       "      <td>sklearn.tree._classes.DecisionTreeClassifier</td>\n",
       "      <td>[{\"run_id\": \"17f6bdc5880044668d600c015b9ad5ba\"...</td>\n",
       "      <td>DecisionTreeClassifier</td>\n",
       "    </tr>\n",
       "    <tr>\n",
       "      <th>5</th>\n",
       "      <td>040da33a515940a493de298cad556c22</td>\n",
       "      <td>0</td>\n",
       "      <td>FINISHED</td>\n",
       "      <td>mlflow-artifacts:/0/040da33a515940a493de298cad...</td>\n",
       "      <td>2023-04-02 00:32:27.043000+00:00</td>\n",
       "      <td>2023-04-02 00:32:38.276000+00:00</td>\n",
       "      <td>0.833333</td>\n",
       "      <td>4.620981e-01</td>\n",
       "      <td>0.666667</td>\n",
       "      <td>0.666667</td>\n",
       "      <td>...</td>\n",
       "      <td>None</td>\n",
       "      <td>gini</td>\n",
       "      <td>camilo</td>\n",
       "      <td>LOCAL</td>\n",
       "      <td>D:\\miniconda3\\envs\\mlops\\lib\\site-packages\\ipy...</td>\n",
       "      <td>camil</td>\n",
       "      <td>unleashed-loon-270</td>\n",
       "      <td>sklearn.tree._classes.DecisionTreeClassifier</td>\n",
       "      <td>[{\"run_id\": \"040da33a515940a493de298cad556c22\"...</td>\n",
       "      <td>DecisionTreeClassifier</td>\n",
       "    </tr>\n",
       "    <tr>\n",
       "      <th>6</th>\n",
       "      <td>1170dd19a6564d948463656d8fbb4ada</td>\n",
       "      <td>0</td>\n",
       "      <td>FINISHED</td>\n",
       "      <td>mlflow-artifacts:/0/1170dd19a6564d948463656d8f...</td>\n",
       "      <td>2023-04-02 00:32:11.718000+00:00</td>\n",
       "      <td>2023-04-02 00:32:23.639000+00:00</td>\n",
       "      <td>1.000000</td>\n",
       "      <td>4.440892e-16</td>\n",
       "      <td>1.000000</td>\n",
       "      <td>1.000000</td>\n",
       "      <td>...</td>\n",
       "      <td>None</td>\n",
       "      <td>gini</td>\n",
       "      <td>camilo</td>\n",
       "      <td>LOCAL</td>\n",
       "      <td>D:\\miniconda3\\envs\\mlops\\lib\\site-packages\\ipy...</td>\n",
       "      <td>camil</td>\n",
       "      <td>defiant-hawk-31</td>\n",
       "      <td>sklearn.tree._classes.DecisionTreeClassifier</td>\n",
       "      <td>[{\"run_id\": \"1170dd19a6564d948463656d8fbb4ada\"...</td>\n",
       "      <td>DecisionTreeClassifier</td>\n",
       "    </tr>\n",
       "  </tbody>\n",
       "</table>\n",
       "<p>7 rows × 33 columns</p>\n",
       "</div>"
      ],
      "text/plain": [
       "                             run_id experiment_id    status  \\\n",
       "0  2412d39133e8473c99858cc31140fef7             0  FINISHED   \n",
       "1  965ed109a0064242aec71922acab0cc7             0  FINISHED   \n",
       "2  6d7c79fc1726426d9a607aea834c5632             0  FINISHED   \n",
       "3  90770df16a3e4fff8f532491b8d0e264             0  FINISHED   \n",
       "4  17f6bdc5880044668d600c015b9ad5ba             0  FINISHED   \n",
       "5  040da33a515940a493de298cad556c22             0  FINISHED   \n",
       "6  1170dd19a6564d948463656d8fbb4ada             0  FINISHED   \n",
       "\n",
       "                                        artifact_uri  \\\n",
       "0  mlflow-artifacts:/0/2412d39133e8473c99858cc311...   \n",
       "1  mlflow-artifacts:/0/965ed109a0064242aec71922ac...   \n",
       "2  mlflow-artifacts:/0/6d7c79fc1726426d9a607aea83...   \n",
       "3  mlflow-artifacts:/0/90770df16a3e4fff8f532491b8...   \n",
       "4  mlflow-artifacts:/0/17f6bdc5880044668d600c015b...   \n",
       "5  mlflow-artifacts:/0/040da33a515940a493de298cad...   \n",
       "6  mlflow-artifacts:/0/1170dd19a6564d948463656d8f...   \n",
       "\n",
       "                        start_time                         end_time  \\\n",
       "0 2023-04-02 00:35:21.552000+00:00 2023-04-02 00:35:33.556000+00:00   \n",
       "1 2023-04-02 00:35:09.780000+00:00 2023-04-02 00:35:21.462000+00:00   \n",
       "2 2023-04-02 00:34:53.512000+00:00 2023-04-02 00:35:09.682000+00:00   \n",
       "3 2023-04-02 00:32:49.541000+00:00 2023-04-02 00:33:01.674000+00:00   \n",
       "4 2023-04-02 00:32:38.375000+00:00 2023-04-02 00:32:49.452000+00:00   \n",
       "5 2023-04-02 00:32:27.043000+00:00 2023-04-02 00:32:38.276000+00:00   \n",
       "6 2023-04-02 00:32:11.718000+00:00 2023-04-02 00:32:23.639000+00:00   \n",
       "\n",
       "   metrics.training_roc_auc  metrics.training_log_loss  \\\n",
       "0                  1.000000               4.440892e-16   \n",
       "1                  0.980000               1.431763e-01   \n",
       "2                  0.833333               4.620981e-01   \n",
       "3                  1.000000               4.440892e-16   \n",
       "4                  0.980000               1.431763e-01   \n",
       "5                  0.833333               4.620981e-01   \n",
       "6                  1.000000               4.440892e-16   \n",
       "\n",
       "   metrics.training_recall_score  metrics.training_accuracy_score  ...  \\\n",
       "0                       1.000000                         1.000000  ...   \n",
       "1                       0.960000                         0.960000  ...   \n",
       "2                       0.666667                         0.666667  ...   \n",
       "3                       1.000000                         1.000000  ...   \n",
       "4                       0.960000                         0.960000  ...   \n",
       "5                       0.666667                         0.666667  ...   \n",
       "6                       1.000000                         1.000000  ...   \n",
       "\n",
       "   params.random_state  params.criterion  tags.developer  \\\n",
       "0                 None              gini          camilo   \n",
       "1                 None              gini          camilo   \n",
       "2                 None              gini          camilo   \n",
       "3                 None              gini          camilo   \n",
       "4                 None              gini          camilo   \n",
       "5                 None              gini          camilo   \n",
       "6                 None              gini          camilo   \n",
       "\n",
       "  tags.mlflow.source.type                            tags.mlflow.source.name  \\\n",
       "0                   LOCAL  D:\\miniconda3\\envs\\mlops\\lib\\site-packages\\ipy...   \n",
       "1                   LOCAL  D:\\miniconda3\\envs\\mlops\\lib\\site-packages\\ipy...   \n",
       "2                   LOCAL  D:\\miniconda3\\envs\\mlops\\lib\\site-packages\\ipy...   \n",
       "3                   LOCAL  D:\\miniconda3\\envs\\mlops\\lib\\site-packages\\ipy...   \n",
       "4                   LOCAL  D:\\miniconda3\\envs\\mlops\\lib\\site-packages\\ipy...   \n",
       "5                   LOCAL  D:\\miniconda3\\envs\\mlops\\lib\\site-packages\\ipy...   \n",
       "6                   LOCAL  D:\\miniconda3\\envs\\mlops\\lib\\site-packages\\ipy...   \n",
       "\n",
       "  tags.mlflow.user tags.mlflow.runName  \\\n",
       "0            camil   unequaled-yak-444   \n",
       "1            camil     nebulous-grub-8   \n",
       "2            camil  whimsical-stag-650   \n",
       "3            camil       loud-colt-128   \n",
       "4            camil   amusing-shoat-937   \n",
       "5            camil  unleashed-loon-270   \n",
       "6            camil     defiant-hawk-31   \n",
       "\n",
       "                           tags.estimator_class  \\\n",
       "0  sklearn.tree._classes.DecisionTreeClassifier   \n",
       "1  sklearn.tree._classes.DecisionTreeClassifier   \n",
       "2  sklearn.tree._classes.DecisionTreeClassifier   \n",
       "3  sklearn.tree._classes.DecisionTreeClassifier   \n",
       "4  sklearn.tree._classes.DecisionTreeClassifier   \n",
       "5  sklearn.tree._classes.DecisionTreeClassifier   \n",
       "6  sklearn.tree._classes.DecisionTreeClassifier   \n",
       "\n",
       "                       tags.mlflow.log-model.history     tags.estimator_name  \n",
       "0  [{\"run_id\": \"2412d39133e8473c99858cc31140fef7\"...  DecisionTreeClassifier  \n",
       "1  [{\"run_id\": \"965ed109a0064242aec71922acab0cc7\"...  DecisionTreeClassifier  \n",
       "2  [{\"run_id\": \"6d7c79fc1726426d9a607aea834c5632\"...  DecisionTreeClassifier  \n",
       "3  [{\"run_id\": \"90770df16a3e4fff8f532491b8d0e264\"...  DecisionTreeClassifier  \n",
       "4  [{\"run_id\": \"17f6bdc5880044668d600c015b9ad5ba\"...  DecisionTreeClassifier  \n",
       "5  [{\"run_id\": \"040da33a515940a493de298cad556c22\"...  DecisionTreeClassifier  \n",
       "6  [{\"run_id\": \"1170dd19a6564d948463656d8fbb4ada\"...  DecisionTreeClassifier  \n",
       "\n",
       "[7 rows x 33 columns]"
      ]
     },
     "execution_count": 9,
     "metadata": {},
     "output_type": "execute_result"
    }
   ],
   "source": [
    "runs = mlflow.search_runs()\n",
    "runs"
   ]
  },
  {
   "cell_type": "code",
   "execution_count": 10,
   "id": "83d88f64",
   "metadata": {},
   "outputs": [],
   "source": [
    "first_model_run_id  = runs[\"run_id\"][0]\n",
    "second_model_run_id = runs[\"run_id\"][1]\n",
    "third_model_run_id = runs[\"run_id\"][3]"
   ]
  },
  {
   "cell_type": "code",
   "execution_count": 15,
   "id": "78ba44eb",
   "metadata": {},
   "outputs": [
    {
     "name": "stderr",
     "output_type": "stream",
     "text": [
      "Registered model 'lluvias_australia' already exists. Creating a new version of this model...\n",
      "2023/04/01 21:36:13 INFO mlflow.tracking._model_registry.client: Waiting up to 300 seconds for model version to finish creation.                     Model name: lluvias_australia, version 5\n",
      "Created version '5' of model 'lluvias_australia'.\n"
     ]
    },
    {
     "data": {
      "text/plain": [
       "<ModelVersion: creation_timestamp=1680395772999, current_stage='Production', description='', last_updated_timestamp=1680395773097, name='lluvias_australia', run_id='2412d39133e8473c99858cc31140fef7', run_link='', source='mlflow-artifacts:/0/2412d39133e8473c99858cc31140fef7/artifacts/model', status='READY', status_message='', tags={}, user_id='', version='5'>"
      ]
     },
     "execution_count": 15,
     "metadata": {},
     "output_type": "execute_result"
    }
   ],
   "source": [
    "first_registered_model = mlflow.register_model(f'runs:/{first_model_run_id}/model', \"lluvias_australia\")\n",
    "\n",
    "#Como esta es mi primer corrida, voy a hacer que este primer modelo entre a prod derecho\n",
    "client.transition_model_version_stage(\n",
    "    name=\"lluvias_australia\", version=first_registered_model.version, stage=\"Production\"\n",
    ")"
   ]
  },
  {
   "cell_type": "code",
   "execution_count": 14,
   "id": "526a2052",
   "metadata": {},
   "outputs": [
    {
     "name": "stderr",
     "output_type": "stream",
     "text": [
      "Registered model 'lluvias_australia' already exists. Creating a new version of this model...\n",
      "2023/04/01 21:36:06 INFO mlflow.tracking._model_registry.client: Waiting up to 300 seconds for model version to finish creation.                     Model name: lluvias_australia, version 4\n",
      "Created version '4' of model 'lluvias_australia'.\n"
     ]
    },
    {
     "data": {
      "text/plain": [
       "<ModelVersion: creation_timestamp=1680395766889, current_stage='Staging', description='', last_updated_timestamp=1680395766981, name='lluvias_australia', run_id='965ed109a0064242aec71922acab0cc7', run_link='', source='mlflow-artifacts:/0/965ed109a0064242aec71922acab0cc7/artifacts/model', status='READY', status_message='', tags={}, user_id='', version='4'>"
      ]
     },
     "execution_count": 14,
     "metadata": {},
     "output_type": "execute_result"
    }
   ],
   "source": [
    "second_registered_model = mlflow.register_model(f'runs:/{second_model_run_id}/model', \"lluvias_australia\")\n",
    "\n",
    "#Mi segundo modelo registrado, lo quiero pasar a Staging\n",
    "client.transition_model_version_stage(\n",
    "    name=\"lluvias_australia\", version=second_registered_model.version, stage=\"Staging\"\n",
    ")"
   ]
  },
  {
   "cell_type": "code",
   "execution_count": 13,
   "id": "01f39b88",
   "metadata": {},
   "outputs": [
    {
     "name": "stderr",
     "output_type": "stream",
     "text": [
      "Registered model 'lluvias_australia' already exists. Creating a new version of this model...\n",
      "2023/04/01 21:35:44 INFO mlflow.tracking._model_registry.client: Waiting up to 300 seconds for model version to finish creation.                     Model name: lluvias_australia, version 3\n",
      "Created version '3' of model 'lluvias_australia'.\n"
     ]
    },
    {
     "data": {
      "text/plain": [
       "<ModelVersion: creation_timestamp=1680395744396, current_stage='Staging', description='', last_updated_timestamp=1680395744478, name='lluvias_australia', run_id='90770df16a3e4fff8f532491b8d0e264', run_link='', source='mlflow-artifacts:/0/90770df16a3e4fff8f532491b8d0e264/artifacts/model', status='READY', status_message='', tags={}, user_id='', version='3'>"
      ]
     },
     "execution_count": 13,
     "metadata": {},
     "output_type": "execute_result"
    }
   ],
   "source": [
    "third_registered_model = mlflow.register_model(f'runs:/{third_model_run_id}/model', \"lluvias_australia\")\n",
    "\n",
    "#Mi segundo modelo registrado, lo quiero pasar a Staging\n",
    "client.transition_model_version_stage(\n",
    "    name=\"lluvias_australia\", version=third_registered_model.version, stage=\"Staging\"\n",
    ")"
   ]
  },
  {
   "cell_type": "markdown",
   "id": "d3fcc1b3",
   "metadata": {},
   "source": [
    "# Los modelos se pueden cargar por version, o por stage"
   ]
  },
  {
   "cell_type": "code",
   "execution_count": 16,
   "id": "593652db",
   "metadata": {},
   "outputs": [
    {
     "data": {
      "text/html": [
       "<style>#sk-container-id-4 {color: black;background-color: white;}#sk-container-id-4 pre{padding: 0;}#sk-container-id-4 div.sk-toggleable {background-color: white;}#sk-container-id-4 label.sk-toggleable__label {cursor: pointer;display: block;width: 100%;margin-bottom: 0;padding: 0.3em;box-sizing: border-box;text-align: center;}#sk-container-id-4 label.sk-toggleable__label-arrow:before {content: \"▸\";float: left;margin-right: 0.25em;color: #696969;}#sk-container-id-4 label.sk-toggleable__label-arrow:hover:before {color: black;}#sk-container-id-4 div.sk-estimator:hover label.sk-toggleable__label-arrow:before {color: black;}#sk-container-id-4 div.sk-toggleable__content {max-height: 0;max-width: 0;overflow: hidden;text-align: left;background-color: #f0f8ff;}#sk-container-id-4 div.sk-toggleable__content pre {margin: 0.2em;color: black;border-radius: 0.25em;background-color: #f0f8ff;}#sk-container-id-4 input.sk-toggleable__control:checked~div.sk-toggleable__content {max-height: 200px;max-width: 100%;overflow: auto;}#sk-container-id-4 input.sk-toggleable__control:checked~label.sk-toggleable__label-arrow:before {content: \"▾\";}#sk-container-id-4 div.sk-estimator input.sk-toggleable__control:checked~label.sk-toggleable__label {background-color: #d4ebff;}#sk-container-id-4 div.sk-label input.sk-toggleable__control:checked~label.sk-toggleable__label {background-color: #d4ebff;}#sk-container-id-4 input.sk-hidden--visually {border: 0;clip: rect(1px 1px 1px 1px);clip: rect(1px, 1px, 1px, 1px);height: 1px;margin: -1px;overflow: hidden;padding: 0;position: absolute;width: 1px;}#sk-container-id-4 div.sk-estimator {font-family: monospace;background-color: #f0f8ff;border: 1px dotted black;border-radius: 0.25em;box-sizing: border-box;margin-bottom: 0.5em;}#sk-container-id-4 div.sk-estimator:hover {background-color: #d4ebff;}#sk-container-id-4 div.sk-parallel-item::after {content: \"\";width: 100%;border-bottom: 1px solid gray;flex-grow: 1;}#sk-container-id-4 div.sk-label:hover label.sk-toggleable__label {background-color: #d4ebff;}#sk-container-id-4 div.sk-serial::before {content: \"\";position: absolute;border-left: 1px solid gray;box-sizing: border-box;top: 0;bottom: 0;left: 50%;z-index: 0;}#sk-container-id-4 div.sk-serial {display: flex;flex-direction: column;align-items: center;background-color: white;padding-right: 0.2em;padding-left: 0.2em;position: relative;}#sk-container-id-4 div.sk-item {position: relative;z-index: 1;}#sk-container-id-4 div.sk-parallel {display: flex;align-items: stretch;justify-content: center;background-color: white;position: relative;}#sk-container-id-4 div.sk-item::before, #sk-container-id-4 div.sk-parallel-item::before {content: \"\";position: absolute;border-left: 1px solid gray;box-sizing: border-box;top: 0;bottom: 0;left: 50%;z-index: -1;}#sk-container-id-4 div.sk-parallel-item {display: flex;flex-direction: column;z-index: 1;position: relative;background-color: white;}#sk-container-id-4 div.sk-parallel-item:first-child::after {align-self: flex-end;width: 50%;}#sk-container-id-4 div.sk-parallel-item:last-child::after {align-self: flex-start;width: 50%;}#sk-container-id-4 div.sk-parallel-item:only-child::after {width: 0;}#sk-container-id-4 div.sk-dashed-wrapped {border: 1px dashed gray;margin: 0 0.4em 0.5em 0.4em;box-sizing: border-box;padding-bottom: 0.4em;background-color: white;}#sk-container-id-4 div.sk-label label {font-family: monospace;font-weight: bold;display: inline-block;line-height: 1.2em;}#sk-container-id-4 div.sk-label-container {text-align: center;}#sk-container-id-4 div.sk-container {/* jupyter's `normalize.less` sets `[hidden] { display: none; }` but bootstrap.min.css set `[hidden] { display: none !important; }` so we also need the `!important` here to be able to override the default hidden behavior on the sphinx rendered scikit-learn.org. See: https://github.com/scikit-learn/scikit-learn/issues/21755 */display: inline-block !important;position: relative;}#sk-container-id-4 div.sk-text-repr-fallback {display: none;}</style><div id=\"sk-container-id-4\" class=\"sk-top-container\"><div class=\"sk-text-repr-fallback\"><pre>DecisionTreeClassifier(max_depth=5)</pre><b>In a Jupyter environment, please rerun this cell to show the HTML representation or trust the notebook. <br />On GitHub, the HTML representation is unable to render, please try loading this page with nbviewer.org.</b></div><div class=\"sk-container\" hidden><div class=\"sk-item\"><div class=\"sk-estimator sk-toggleable\"><input class=\"sk-toggleable__control sk-hidden--visually\" id=\"sk-estimator-id-4\" type=\"checkbox\" checked><label for=\"sk-estimator-id-4\" class=\"sk-toggleable__label sk-toggleable__label-arrow\">DecisionTreeClassifier</label><div class=\"sk-toggleable__content\"><pre>DecisionTreeClassifier(max_depth=5)</pre></div></div></div></div></div>"
      ],
      "text/plain": [
       "DecisionTreeClassifier(max_depth=5)"
      ]
     },
     "execution_count": 16,
     "metadata": {},
     "output_type": "execute_result"
    }
   ],
   "source": [
    "mlflow.sklearn.load_model('models:/lluvias_australia/1')"
   ]
  },
  {
   "cell_type": "code",
   "execution_count": 17,
   "id": "efacc76a",
   "metadata": {},
   "outputs": [
    {
     "data": {
      "text/html": [
       "<style>#sk-container-id-5 {color: black;background-color: white;}#sk-container-id-5 pre{padding: 0;}#sk-container-id-5 div.sk-toggleable {background-color: white;}#sk-container-id-5 label.sk-toggleable__label {cursor: pointer;display: block;width: 100%;margin-bottom: 0;padding: 0.3em;box-sizing: border-box;text-align: center;}#sk-container-id-5 label.sk-toggleable__label-arrow:before {content: \"▸\";float: left;margin-right: 0.25em;color: #696969;}#sk-container-id-5 label.sk-toggleable__label-arrow:hover:before {color: black;}#sk-container-id-5 div.sk-estimator:hover label.sk-toggleable__label-arrow:before {color: black;}#sk-container-id-5 div.sk-toggleable__content {max-height: 0;max-width: 0;overflow: hidden;text-align: left;background-color: #f0f8ff;}#sk-container-id-5 div.sk-toggleable__content pre {margin: 0.2em;color: black;border-radius: 0.25em;background-color: #f0f8ff;}#sk-container-id-5 input.sk-toggleable__control:checked~div.sk-toggleable__content {max-height: 200px;max-width: 100%;overflow: auto;}#sk-container-id-5 input.sk-toggleable__control:checked~label.sk-toggleable__label-arrow:before {content: \"▾\";}#sk-container-id-5 div.sk-estimator input.sk-toggleable__control:checked~label.sk-toggleable__label {background-color: #d4ebff;}#sk-container-id-5 div.sk-label input.sk-toggleable__control:checked~label.sk-toggleable__label {background-color: #d4ebff;}#sk-container-id-5 input.sk-hidden--visually {border: 0;clip: rect(1px 1px 1px 1px);clip: rect(1px, 1px, 1px, 1px);height: 1px;margin: -1px;overflow: hidden;padding: 0;position: absolute;width: 1px;}#sk-container-id-5 div.sk-estimator {font-family: monospace;background-color: #f0f8ff;border: 1px dotted black;border-radius: 0.25em;box-sizing: border-box;margin-bottom: 0.5em;}#sk-container-id-5 div.sk-estimator:hover {background-color: #d4ebff;}#sk-container-id-5 div.sk-parallel-item::after {content: \"\";width: 100%;border-bottom: 1px solid gray;flex-grow: 1;}#sk-container-id-5 div.sk-label:hover label.sk-toggleable__label {background-color: #d4ebff;}#sk-container-id-5 div.sk-serial::before {content: \"\";position: absolute;border-left: 1px solid gray;box-sizing: border-box;top: 0;bottom: 0;left: 50%;z-index: 0;}#sk-container-id-5 div.sk-serial {display: flex;flex-direction: column;align-items: center;background-color: white;padding-right: 0.2em;padding-left: 0.2em;position: relative;}#sk-container-id-5 div.sk-item {position: relative;z-index: 1;}#sk-container-id-5 div.sk-parallel {display: flex;align-items: stretch;justify-content: center;background-color: white;position: relative;}#sk-container-id-5 div.sk-item::before, #sk-container-id-5 div.sk-parallel-item::before {content: \"\";position: absolute;border-left: 1px solid gray;box-sizing: border-box;top: 0;bottom: 0;left: 50%;z-index: -1;}#sk-container-id-5 div.sk-parallel-item {display: flex;flex-direction: column;z-index: 1;position: relative;background-color: white;}#sk-container-id-5 div.sk-parallel-item:first-child::after {align-self: flex-end;width: 50%;}#sk-container-id-5 div.sk-parallel-item:last-child::after {align-self: flex-start;width: 50%;}#sk-container-id-5 div.sk-parallel-item:only-child::after {width: 0;}#sk-container-id-5 div.sk-dashed-wrapped {border: 1px dashed gray;margin: 0 0.4em 0.5em 0.4em;box-sizing: border-box;padding-bottom: 0.4em;background-color: white;}#sk-container-id-5 div.sk-label label {font-family: monospace;font-weight: bold;display: inline-block;line-height: 1.2em;}#sk-container-id-5 div.sk-label-container {text-align: center;}#sk-container-id-5 div.sk-container {/* jupyter's `normalize.less` sets `[hidden] { display: none; }` but bootstrap.min.css set `[hidden] { display: none !important; }` so we also need the `!important` here to be able to override the default hidden behavior on the sphinx rendered scikit-learn.org. See: https://github.com/scikit-learn/scikit-learn/issues/21755 */display: inline-block !important;position: relative;}#sk-container-id-5 div.sk-text-repr-fallback {display: none;}</style><div id=\"sk-container-id-5\" class=\"sk-top-container\"><div class=\"sk-text-repr-fallback\"><pre>DecisionTreeClassifier(max_depth=2)</pre><b>In a Jupyter environment, please rerun this cell to show the HTML representation or trust the notebook. <br />On GitHub, the HTML representation is unable to render, please try loading this page with nbviewer.org.</b></div><div class=\"sk-container\" hidden><div class=\"sk-item\"><div class=\"sk-estimator sk-toggleable\"><input class=\"sk-toggleable__control sk-hidden--visually\" id=\"sk-estimator-id-5\" type=\"checkbox\" checked><label for=\"sk-estimator-id-5\" class=\"sk-toggleable__label sk-toggleable__label-arrow\">DecisionTreeClassifier</label><div class=\"sk-toggleable__content\"><pre>DecisionTreeClassifier(max_depth=2)</pre></div></div></div></div></div>"
      ],
      "text/plain": [
       "DecisionTreeClassifier(max_depth=2)"
      ]
     },
     "execution_count": 17,
     "metadata": {},
     "output_type": "execute_result"
    }
   ],
   "source": [
    "mlflow.sklearn.load_model('models:/lluvias_australia/2')"
   ]
  },
  {
   "cell_type": "code",
   "execution_count": 20,
   "id": "3129214c",
   "metadata": {},
   "outputs": [
    {
     "data": {
      "text/html": [
       "<style>#sk-container-id-8 {color: black;background-color: white;}#sk-container-id-8 pre{padding: 0;}#sk-container-id-8 div.sk-toggleable {background-color: white;}#sk-container-id-8 label.sk-toggleable__label {cursor: pointer;display: block;width: 100%;margin-bottom: 0;padding: 0.3em;box-sizing: border-box;text-align: center;}#sk-container-id-8 label.sk-toggleable__label-arrow:before {content: \"▸\";float: left;margin-right: 0.25em;color: #696969;}#sk-container-id-8 label.sk-toggleable__label-arrow:hover:before {color: black;}#sk-container-id-8 div.sk-estimator:hover label.sk-toggleable__label-arrow:before {color: black;}#sk-container-id-8 div.sk-toggleable__content {max-height: 0;max-width: 0;overflow: hidden;text-align: left;background-color: #f0f8ff;}#sk-container-id-8 div.sk-toggleable__content pre {margin: 0.2em;color: black;border-radius: 0.25em;background-color: #f0f8ff;}#sk-container-id-8 input.sk-toggleable__control:checked~div.sk-toggleable__content {max-height: 200px;max-width: 100%;overflow: auto;}#sk-container-id-8 input.sk-toggleable__control:checked~label.sk-toggleable__label-arrow:before {content: \"▾\";}#sk-container-id-8 div.sk-estimator input.sk-toggleable__control:checked~label.sk-toggleable__label {background-color: #d4ebff;}#sk-container-id-8 div.sk-label input.sk-toggleable__control:checked~label.sk-toggleable__label {background-color: #d4ebff;}#sk-container-id-8 input.sk-hidden--visually {border: 0;clip: rect(1px 1px 1px 1px);clip: rect(1px, 1px, 1px, 1px);height: 1px;margin: -1px;overflow: hidden;padding: 0;position: absolute;width: 1px;}#sk-container-id-8 div.sk-estimator {font-family: monospace;background-color: #f0f8ff;border: 1px dotted black;border-radius: 0.25em;box-sizing: border-box;margin-bottom: 0.5em;}#sk-container-id-8 div.sk-estimator:hover {background-color: #d4ebff;}#sk-container-id-8 div.sk-parallel-item::after {content: \"\";width: 100%;border-bottom: 1px solid gray;flex-grow: 1;}#sk-container-id-8 div.sk-label:hover label.sk-toggleable__label {background-color: #d4ebff;}#sk-container-id-8 div.sk-serial::before {content: \"\";position: absolute;border-left: 1px solid gray;box-sizing: border-box;top: 0;bottom: 0;left: 50%;z-index: 0;}#sk-container-id-8 div.sk-serial {display: flex;flex-direction: column;align-items: center;background-color: white;padding-right: 0.2em;padding-left: 0.2em;position: relative;}#sk-container-id-8 div.sk-item {position: relative;z-index: 1;}#sk-container-id-8 div.sk-parallel {display: flex;align-items: stretch;justify-content: center;background-color: white;position: relative;}#sk-container-id-8 div.sk-item::before, #sk-container-id-8 div.sk-parallel-item::before {content: \"\";position: absolute;border-left: 1px solid gray;box-sizing: border-box;top: 0;bottom: 0;left: 50%;z-index: -1;}#sk-container-id-8 div.sk-parallel-item {display: flex;flex-direction: column;z-index: 1;position: relative;background-color: white;}#sk-container-id-8 div.sk-parallel-item:first-child::after {align-self: flex-end;width: 50%;}#sk-container-id-8 div.sk-parallel-item:last-child::after {align-self: flex-start;width: 50%;}#sk-container-id-8 div.sk-parallel-item:only-child::after {width: 0;}#sk-container-id-8 div.sk-dashed-wrapped {border: 1px dashed gray;margin: 0 0.4em 0.5em 0.4em;box-sizing: border-box;padding-bottom: 0.4em;background-color: white;}#sk-container-id-8 div.sk-label label {font-family: monospace;font-weight: bold;display: inline-block;line-height: 1.2em;}#sk-container-id-8 div.sk-label-container {text-align: center;}#sk-container-id-8 div.sk-container {/* jupyter's `normalize.less` sets `[hidden] { display: none; }` but bootstrap.min.css set `[hidden] { display: none !important; }` so we also need the `!important` here to be able to override the default hidden behavior on the sphinx rendered scikit-learn.org. See: https://github.com/scikit-learn/scikit-learn/issues/21755 */display: inline-block !important;position: relative;}#sk-container-id-8 div.sk-text-repr-fallback {display: none;}</style><div id=\"sk-container-id-8\" class=\"sk-top-container\"><div class=\"sk-text-repr-fallback\"><pre>DecisionTreeClassifier(max_depth=2)</pre><b>In a Jupyter environment, please rerun this cell to show the HTML representation or trust the notebook. <br />On GitHub, the HTML representation is unable to render, please try loading this page with nbviewer.org.</b></div><div class=\"sk-container\" hidden><div class=\"sk-item\"><div class=\"sk-estimator sk-toggleable\"><input class=\"sk-toggleable__control sk-hidden--visually\" id=\"sk-estimator-id-8\" type=\"checkbox\" checked><label for=\"sk-estimator-id-8\" class=\"sk-toggleable__label sk-toggleable__label-arrow\">DecisionTreeClassifier</label><div class=\"sk-toggleable__content\"><pre>DecisionTreeClassifier(max_depth=2)</pre></div></div></div></div></div>"
      ],
      "text/plain": [
       "DecisionTreeClassifier(max_depth=2)"
      ]
     },
     "execution_count": 20,
     "metadata": {},
     "output_type": "execute_result"
    }
   ],
   "source": [
    "#Si hay varios que comparten un stage, el va a cargar el último\n",
    "mlflow.sklearn.load_model('models:/lluvias_australia/Staging')"
   ]
  },
  {
   "cell_type": "code",
   "execution_count": 21,
   "id": "270c942f",
   "metadata": {},
   "outputs": [
    {
     "data": {
      "text/html": [
       "<style>#sk-container-id-9 {color: black;background-color: white;}#sk-container-id-9 pre{padding: 0;}#sk-container-id-9 div.sk-toggleable {background-color: white;}#sk-container-id-9 label.sk-toggleable__label {cursor: pointer;display: block;width: 100%;margin-bottom: 0;padding: 0.3em;box-sizing: border-box;text-align: center;}#sk-container-id-9 label.sk-toggleable__label-arrow:before {content: \"▸\";float: left;margin-right: 0.25em;color: #696969;}#sk-container-id-9 label.sk-toggleable__label-arrow:hover:before {color: black;}#sk-container-id-9 div.sk-estimator:hover label.sk-toggleable__label-arrow:before {color: black;}#sk-container-id-9 div.sk-toggleable__content {max-height: 0;max-width: 0;overflow: hidden;text-align: left;background-color: #f0f8ff;}#sk-container-id-9 div.sk-toggleable__content pre {margin: 0.2em;color: black;border-radius: 0.25em;background-color: #f0f8ff;}#sk-container-id-9 input.sk-toggleable__control:checked~div.sk-toggleable__content {max-height: 200px;max-width: 100%;overflow: auto;}#sk-container-id-9 input.sk-toggleable__control:checked~label.sk-toggleable__label-arrow:before {content: \"▾\";}#sk-container-id-9 div.sk-estimator input.sk-toggleable__control:checked~label.sk-toggleable__label {background-color: #d4ebff;}#sk-container-id-9 div.sk-label input.sk-toggleable__control:checked~label.sk-toggleable__label {background-color: #d4ebff;}#sk-container-id-9 input.sk-hidden--visually {border: 0;clip: rect(1px 1px 1px 1px);clip: rect(1px, 1px, 1px, 1px);height: 1px;margin: -1px;overflow: hidden;padding: 0;position: absolute;width: 1px;}#sk-container-id-9 div.sk-estimator {font-family: monospace;background-color: #f0f8ff;border: 1px dotted black;border-radius: 0.25em;box-sizing: border-box;margin-bottom: 0.5em;}#sk-container-id-9 div.sk-estimator:hover {background-color: #d4ebff;}#sk-container-id-9 div.sk-parallel-item::after {content: \"\";width: 100%;border-bottom: 1px solid gray;flex-grow: 1;}#sk-container-id-9 div.sk-label:hover label.sk-toggleable__label {background-color: #d4ebff;}#sk-container-id-9 div.sk-serial::before {content: \"\";position: absolute;border-left: 1px solid gray;box-sizing: border-box;top: 0;bottom: 0;left: 50%;z-index: 0;}#sk-container-id-9 div.sk-serial {display: flex;flex-direction: column;align-items: center;background-color: white;padding-right: 0.2em;padding-left: 0.2em;position: relative;}#sk-container-id-9 div.sk-item {position: relative;z-index: 1;}#sk-container-id-9 div.sk-parallel {display: flex;align-items: stretch;justify-content: center;background-color: white;position: relative;}#sk-container-id-9 div.sk-item::before, #sk-container-id-9 div.sk-parallel-item::before {content: \"\";position: absolute;border-left: 1px solid gray;box-sizing: border-box;top: 0;bottom: 0;left: 50%;z-index: -1;}#sk-container-id-9 div.sk-parallel-item {display: flex;flex-direction: column;z-index: 1;position: relative;background-color: white;}#sk-container-id-9 div.sk-parallel-item:first-child::after {align-self: flex-end;width: 50%;}#sk-container-id-9 div.sk-parallel-item:last-child::after {align-self: flex-start;width: 50%;}#sk-container-id-9 div.sk-parallel-item:only-child::after {width: 0;}#sk-container-id-9 div.sk-dashed-wrapped {border: 1px dashed gray;margin: 0 0.4em 0.5em 0.4em;box-sizing: border-box;padding-bottom: 0.4em;background-color: white;}#sk-container-id-9 div.sk-label label {font-family: monospace;font-weight: bold;display: inline-block;line-height: 1.2em;}#sk-container-id-9 div.sk-label-container {text-align: center;}#sk-container-id-9 div.sk-container {/* jupyter's `normalize.less` sets `[hidden] { display: none; }` but bootstrap.min.css set `[hidden] { display: none !important; }` so we also need the `!important` here to be able to override the default hidden behavior on the sphinx rendered scikit-learn.org. See: https://github.com/scikit-learn/scikit-learn/issues/21755 */display: inline-block !important;position: relative;}#sk-container-id-9 div.sk-text-repr-fallback {display: none;}</style><div id=\"sk-container-id-9\" class=\"sk-top-container\"><div class=\"sk-text-repr-fallback\"><pre>DecisionTreeClassifier(max_depth=5)</pre><b>In a Jupyter environment, please rerun this cell to show the HTML representation or trust the notebook. <br />On GitHub, the HTML representation is unable to render, please try loading this page with nbviewer.org.</b></div><div class=\"sk-container\" hidden><div class=\"sk-item\"><div class=\"sk-estimator sk-toggleable\"><input class=\"sk-toggleable__control sk-hidden--visually\" id=\"sk-estimator-id-9\" type=\"checkbox\" checked><label for=\"sk-estimator-id-9\" class=\"sk-toggleable__label sk-toggleable__label-arrow\">DecisionTreeClassifier</label><div class=\"sk-toggleable__content\"><pre>DecisionTreeClassifier(max_depth=5)</pre></div></div></div></div></div>"
      ],
      "text/plain": [
       "DecisionTreeClassifier(max_depth=5)"
      ]
     },
     "execution_count": 21,
     "metadata": {},
     "output_type": "execute_result"
    }
   ],
   "source": [
    "mlflow.sklearn.load_model('models:/lluvias_australia/Production')"
   ]
  },
  {
   "cell_type": "markdown",
   "id": "b2927173",
   "metadata": {},
   "source": [
    "# Una vez armado esto, puedo simular que tengo data real, y comparar las performances de los modelos"
   ]
  },
  {
   "cell_type": "code",
   "execution_count": 24,
   "id": "542539c3",
   "metadata": {},
   "outputs": [],
   "source": [
    "#Filtrame todos los modelos que estan en staging y prod\n",
    "#De paso chequeame que halla uno solo en prod\n",
    "\n",
    "all_model_versions = client.search_model_versions()\n",
    "\n",
    "all_staging_models = list(filter(\n",
    "    lambda current_version: current_version.current_stage == \"Staging\",\n",
    "    all_model_versions\n",
    "))\n",
    "\n",
    "all_production_models = list(filter(\n",
    "    lambda current_version: current_version.current_stage == \"Production\",\n",
    "    all_model_versions\n",
    "))\n",
    "\n",
    "assert len(all_production_models) == 1, \"You MUST have JUST ONE model in prod\""
   ]
  },
  {
   "cell_type": "code",
   "execution_count": 25,
   "id": "131ea91d",
   "metadata": {},
   "outputs": [
    {
     "data": {
      "text/plain": [
       "mlflow.pyfunc.loaded_model:\n",
       "  artifact_path: model\n",
       "  flavor: mlflow.sklearn\n",
       "  run_id: 2412d39133e8473c99858cc31140fef7"
      ]
     },
     "execution_count": 25,
     "metadata": {},
     "output_type": "execute_result"
    }
   ],
   "source": [
    "#Voy a traer mis modelos como mlfunc, para ser agnostico de la libreria que los genero\n",
    "production_model = mlflow.pyfunc.load_model('models:/lluvias_australia/Production')\n",
    "production_model"
   ]
  },
  {
   "cell_type": "code",
   "execution_count": 27,
   "id": "ac8e53a3",
   "metadata": {},
   "outputs": [
    {
     "data": {
      "text/plain": [
       "1.0"
      ]
     },
     "execution_count": 27,
     "metadata": {},
     "output_type": "execute_result"
    }
   ],
   "source": [
    "prod_model_accuracy = (production_model.predict(data.data) == data.target).mean()\n",
    "prod_model_accuracy"
   ]
  },
  {
   "cell_type": "code",
   "execution_count": 26,
   "id": "0174ca1a",
   "metadata": {},
   "outputs": [
    {
     "name": "stdout",
     "output_type": "stream",
     "text": [
      "Staging model performances {'4': 0.96, '3': 1.0, '1': 1.0}\n"
     ]
    }
   ],
   "source": [
    "#Guardame las performances y versiones de los modelos que estan en staging\n",
    "staging_model_performances = dict()\n",
    "for staged_version in all_staging_models:\n",
    "\n",
    "    current_model_version = staged_version.version\n",
    "    current_staging_model = mlflow.pyfunc.load_model(\n",
    "        f'models:/lluvias_australia/{current_model_version}')\n",
    "    \n",
    "    current_staging_model_performance = (current_staging_model.predict(data.data) == data.target).mean()\n",
    "    \n",
    "    staging_model_performances[current_model_version] = current_staging_model_performance\n",
    "    \n",
    "    \n",
    "\n",
    "print(\"Staging model performances\",staging_model_performances)"
   ]
  },
  {
   "cell_type": "markdown",
   "id": "01c448b9",
   "metadata": {},
   "source": [
    "# Yo me quiero o quedar con el mejor modelo candidato, o con el que estaba en prod"
   ]
  },
  {
   "cell_type": "code",
   "execution_count": null,
   "id": "168624aa",
   "metadata": {},
   "outputs": [],
   "source": [
    "#Chequeame las performances de todos los modelos en staging vs la del modelo en prod\n",
    "prod_model_accuracy = (production_model.predict(data.data) == data.target).mean()\n",
    "\n",
    "current_best_performance = prod_model_accuracy\n",
    "best_model_version = None\n",
    "for current_model_version in staging_model_performances:\n",
    "    \n",
    "    if staging_model_performances[current_model_version] > current_best_performance:\n",
    "        best_model_version = int(current_model_version)\n",
    "        current_best_performance = staging_model_performances[current_model_version]"
   ]
  },
  {
   "cell_type": "code",
   "execution_count": 28,
   "id": "5f7403ef",
   "metadata": {},
   "outputs": [
    {
     "ename": "RestException",
     "evalue": "RESOURCE_DOES_NOT_EXIST: Registered Model with name=lluvias_australia not found",
     "output_type": "error",
     "traceback": [
      "\u001b[1;31m---------------------------------------------------------------------------\u001b[0m",
      "\u001b[1;31mRestException\u001b[0m                             Traceback (most recent call last)",
      "Cell \u001b[1;32mIn[28], line 3\u001b[0m\n\u001b[0;32m      1\u001b[0m \u001b[38;5;66;03m#Archive all the old candidates\u001b[39;00m\n\u001b[0;32m      2\u001b[0m \u001b[38;5;28;01mfor\u001b[39;00m current_model_version \u001b[38;5;129;01min\u001b[39;00m staging_model_performances:\n\u001b[1;32m----> 3\u001b[0m     \u001b[43mclient\u001b[49m\u001b[38;5;241;43m.\u001b[39;49m\u001b[43mtransition_model_version_stage\u001b[49m\u001b[43m(\u001b[49m\n\u001b[0;32m      4\u001b[0m \u001b[43m        \u001b[49m\u001b[43mname\u001b[49m\u001b[38;5;241;43m=\u001b[39;49m\u001b[38;5;124;43m\"\u001b[39;49m\u001b[38;5;124;43mlluvias_australia\u001b[39;49m\u001b[38;5;124;43m\"\u001b[39;49m\u001b[43m,\u001b[49m\u001b[43m \u001b[49m\u001b[43mversion\u001b[49m\u001b[38;5;241;43m=\u001b[39;49m\u001b[43mcurrent_model_version\u001b[49m\u001b[43m,\u001b[49m\u001b[43m \u001b[49m\u001b[43mstage\u001b[49m\u001b[38;5;241;43m=\u001b[39;49m\u001b[38;5;124;43m\"\u001b[39;49m\u001b[38;5;124;43mNone\u001b[39;49m\u001b[38;5;124;43m\"\u001b[39;49m\n\u001b[0;32m      5\u001b[0m \u001b[43m    \u001b[49m\u001b[43m)\u001b[49m\n\u001b[0;32m      8\u001b[0m \u001b[38;5;66;03m#If there is a new best model\u001b[39;00m\n\u001b[0;32m      9\u001b[0m \u001b[38;5;28;01mif\u001b[39;00m best_model_version:\n",
      "File \u001b[1;32mD:\\miniconda3\\envs\\mlops\\lib\\site-packages\\mlflow\\tracking\\client.py:2449\u001b[0m, in \u001b[0;36mMlflowClient.transition_model_version_stage\u001b[1;34m(self, name, version, stage, archive_existing_versions)\u001b[0m\n\u001b[0;32m   2381\u001b[0m \u001b[38;5;28;01mdef\u001b[39;00m \u001b[38;5;21mtransition_model_version_stage\u001b[39m(\n\u001b[0;32m   2382\u001b[0m     \u001b[38;5;28mself\u001b[39m, name: \u001b[38;5;28mstr\u001b[39m, version: \u001b[38;5;28mstr\u001b[39m, stage: \u001b[38;5;28mstr\u001b[39m, archive_existing_versions: \u001b[38;5;28mbool\u001b[39m \u001b[38;5;241m=\u001b[39m \u001b[38;5;28;01mFalse\u001b[39;00m\n\u001b[0;32m   2383\u001b[0m ) \u001b[38;5;241m-\u001b[39m\u001b[38;5;241m>\u001b[39m ModelVersion:\n\u001b[0;32m   2384\u001b[0m \u001b[38;5;250m    \u001b[39m\u001b[38;5;124;03m\"\"\"\u001b[39;00m\n\u001b[0;32m   2385\u001b[0m \u001b[38;5;124;03m    Update model version stage.\u001b[39;00m\n\u001b[0;32m   2386\u001b[0m \n\u001b[1;32m   (...)\u001b[0m\n\u001b[0;32m   2447\u001b[0m \u001b[38;5;124;03m        Stage: Staging\u001b[39;00m\n\u001b[0;32m   2448\u001b[0m \u001b[38;5;124;03m    \"\"\"\u001b[39;00m\n\u001b[1;32m-> 2449\u001b[0m     \u001b[38;5;28;01mreturn\u001b[39;00m \u001b[38;5;28;43mself\u001b[39;49m\u001b[38;5;241;43m.\u001b[39;49m\u001b[43m_get_registry_client\u001b[49m\u001b[43m(\u001b[49m\u001b[43m)\u001b[49m\u001b[38;5;241;43m.\u001b[39;49m\u001b[43mtransition_model_version_stage\u001b[49m\u001b[43m(\u001b[49m\n\u001b[0;32m   2450\u001b[0m \u001b[43m        \u001b[49m\u001b[43mname\u001b[49m\u001b[43m,\u001b[49m\u001b[43m \u001b[49m\u001b[43mversion\u001b[49m\u001b[43m,\u001b[49m\u001b[43m \u001b[49m\u001b[43mstage\u001b[49m\u001b[43m,\u001b[49m\u001b[43m \u001b[49m\u001b[43marchive_existing_versions\u001b[49m\n\u001b[0;32m   2451\u001b[0m \u001b[43m    \u001b[49m\u001b[43m)\u001b[49m\n",
      "File \u001b[1;32mD:\\miniconda3\\envs\\mlops\\lib\\site-packages\\mlflow\\tracking\\_model_registry\\client.py:247\u001b[0m, in \u001b[0;36mModelRegistryClient.transition_model_version_stage\u001b[1;34m(self, name, version, stage, archive_existing_versions)\u001b[0m\n\u001b[0;32m    245\u001b[0m \u001b[38;5;28;01mif\u001b[39;00m stage\u001b[38;5;241m.\u001b[39mstrip() \u001b[38;5;241m==\u001b[39m \u001b[38;5;124m\"\u001b[39m\u001b[38;5;124m\"\u001b[39m:\n\u001b[0;32m    246\u001b[0m     \u001b[38;5;28;01mraise\u001b[39;00m MlflowException(\u001b[38;5;124m\"\u001b[39m\u001b[38;5;124mThe stage must not be an empty string.\u001b[39m\u001b[38;5;124m\"\u001b[39m)\n\u001b[1;32m--> 247\u001b[0m \u001b[38;5;28;01mreturn\u001b[39;00m \u001b[38;5;28;43mself\u001b[39;49m\u001b[38;5;241;43m.\u001b[39;49m\u001b[43mstore\u001b[49m\u001b[38;5;241;43m.\u001b[39;49m\u001b[43mtransition_model_version_stage\u001b[49m\u001b[43m(\u001b[49m\n\u001b[0;32m    248\u001b[0m \u001b[43m    \u001b[49m\u001b[43mname\u001b[49m\u001b[38;5;241;43m=\u001b[39;49m\u001b[43mname\u001b[49m\u001b[43m,\u001b[49m\n\u001b[0;32m    249\u001b[0m \u001b[43m    \u001b[49m\u001b[43mversion\u001b[49m\u001b[38;5;241;43m=\u001b[39;49m\u001b[43mversion\u001b[49m\u001b[43m,\u001b[49m\n\u001b[0;32m    250\u001b[0m \u001b[43m    \u001b[49m\u001b[43mstage\u001b[49m\u001b[38;5;241;43m=\u001b[39;49m\u001b[43mstage\u001b[49m\u001b[43m,\u001b[49m\n\u001b[0;32m    251\u001b[0m \u001b[43m    \u001b[49m\u001b[43marchive_existing_versions\u001b[49m\u001b[38;5;241;43m=\u001b[39;49m\u001b[43marchive_existing_versions\u001b[49m\u001b[43m,\u001b[49m\n\u001b[0;32m    252\u001b[0m \u001b[43m\u001b[49m\u001b[43m)\u001b[49m\n",
      "File \u001b[1;32mD:\\miniconda3\\envs\\mlops\\lib\\site-packages\\mlflow\\store\\model_registry\\rest_store.py:247\u001b[0m, in \u001b[0;36mRestStore.transition_model_version_stage\u001b[1;34m(self, name, version, stage, archive_existing_versions)\u001b[0m\n\u001b[0;32m    227\u001b[0m \u001b[38;5;250m\u001b[39m\u001b[38;5;124;03m\"\"\"\u001b[39;00m\n\u001b[0;32m    228\u001b[0m \u001b[38;5;124;03mUpdate model version stage.\u001b[39;00m\n\u001b[0;32m    229\u001b[0m \n\u001b[1;32m   (...)\u001b[0m\n\u001b[0;32m    237\u001b[0m \u001b[38;5;124;03m:return: A single :py:class:`mlflow.entities.model_registry.ModelVersion` object.\u001b[39;00m\n\u001b[0;32m    238\u001b[0m \u001b[38;5;124;03m\"\"\"\u001b[39;00m\n\u001b[0;32m    239\u001b[0m req_body \u001b[38;5;241m=\u001b[39m message_to_json(\n\u001b[0;32m    240\u001b[0m     TransitionModelVersionStage(\n\u001b[0;32m    241\u001b[0m         name\u001b[38;5;241m=\u001b[39mname,\n\u001b[1;32m   (...)\u001b[0m\n\u001b[0;32m    245\u001b[0m     )\n\u001b[0;32m    246\u001b[0m )\n\u001b[1;32m--> 247\u001b[0m response_proto \u001b[38;5;241m=\u001b[39m \u001b[38;5;28;43mself\u001b[39;49m\u001b[38;5;241;43m.\u001b[39;49m\u001b[43m_call_endpoint\u001b[49m\u001b[43m(\u001b[49m\u001b[43mTransitionModelVersionStage\u001b[49m\u001b[43m,\u001b[49m\u001b[43m \u001b[49m\u001b[43mreq_body\u001b[49m\u001b[43m)\u001b[49m\n\u001b[0;32m    248\u001b[0m \u001b[38;5;28;01mreturn\u001b[39;00m ModelVersion\u001b[38;5;241m.\u001b[39mfrom_proto(response_proto\u001b[38;5;241m.\u001b[39mmodel_version)\n",
      "File \u001b[1;32mD:\\miniconda3\\envs\\mlops\\lib\\site-packages\\mlflow\\store\\model_registry\\base_rest_store.py:42\u001b[0m, in \u001b[0;36mBaseRestStore._call_endpoint\u001b[1;34m(self, api, json_body, call_all_endpoints)\u001b[0m\n\u001b[0;32m     40\u001b[0m \u001b[38;5;28;01melse\u001b[39;00m:\n\u001b[0;32m     41\u001b[0m     endpoint, method \u001b[38;5;241m=\u001b[39m \u001b[38;5;28mself\u001b[39m\u001b[38;5;241m.\u001b[39m_get_endpoint_from_method(api)\n\u001b[1;32m---> 42\u001b[0m     \u001b[38;5;28;01mreturn\u001b[39;00m \u001b[43mcall_endpoint\u001b[49m\u001b[43m(\u001b[49m\u001b[38;5;28;43mself\u001b[39;49m\u001b[38;5;241;43m.\u001b[39;49m\u001b[43mget_host_creds\u001b[49m\u001b[43m(\u001b[49m\u001b[43m)\u001b[49m\u001b[43m,\u001b[49m\u001b[43m \u001b[49m\u001b[43mendpoint\u001b[49m\u001b[43m,\u001b[49m\u001b[43m \u001b[49m\u001b[43mmethod\u001b[49m\u001b[43m,\u001b[49m\u001b[43m \u001b[49m\u001b[43mjson_body\u001b[49m\u001b[43m,\u001b[49m\u001b[43m \u001b[49m\u001b[43mresponse_proto\u001b[49m\u001b[43m)\u001b[49m\n",
      "File \u001b[1;32mD:\\miniconda3\\envs\\mlops\\lib\\site-packages\\mlflow\\utils\\rest_utils.py:281\u001b[0m, in \u001b[0;36mcall_endpoint\u001b[1;34m(host_creds, endpoint, method, json_body, response_proto)\u001b[0m\n\u001b[0;32m    277\u001b[0m \u001b[38;5;28;01melse\u001b[39;00m:\n\u001b[0;32m    278\u001b[0m     response \u001b[38;5;241m=\u001b[39m http_request(\n\u001b[0;32m    279\u001b[0m         host_creds\u001b[38;5;241m=\u001b[39mhost_creds, endpoint\u001b[38;5;241m=\u001b[39mendpoint, method\u001b[38;5;241m=\u001b[39mmethod, json\u001b[38;5;241m=\u001b[39mjson_body\n\u001b[0;32m    280\u001b[0m     )\n\u001b[1;32m--> 281\u001b[0m response \u001b[38;5;241m=\u001b[39m \u001b[43mverify_rest_response\u001b[49m\u001b[43m(\u001b[49m\u001b[43mresponse\u001b[49m\u001b[43m,\u001b[49m\u001b[43m \u001b[49m\u001b[43mendpoint\u001b[49m\u001b[43m)\u001b[49m\n\u001b[0;32m    282\u001b[0m js_dict \u001b[38;5;241m=\u001b[39m json\u001b[38;5;241m.\u001b[39mloads(response\u001b[38;5;241m.\u001b[39mtext)\n\u001b[0;32m    283\u001b[0m parse_dict(js_dict\u001b[38;5;241m=\u001b[39mjs_dict, message\u001b[38;5;241m=\u001b[39mresponse_proto)\n",
      "File \u001b[1;32mD:\\miniconda3\\envs\\mlops\\lib\\site-packages\\mlflow\\utils\\rest_utils.py:207\u001b[0m, in \u001b[0;36mverify_rest_response\u001b[1;34m(response, endpoint)\u001b[0m\n\u001b[0;32m    205\u001b[0m \u001b[38;5;28;01mif\u001b[39;00m response\u001b[38;5;241m.\u001b[39mstatus_code \u001b[38;5;241m!=\u001b[39m \u001b[38;5;241m200\u001b[39m:\n\u001b[0;32m    206\u001b[0m     \u001b[38;5;28;01mif\u001b[39;00m _can_parse_as_json_object(response\u001b[38;5;241m.\u001b[39mtext):\n\u001b[1;32m--> 207\u001b[0m         \u001b[38;5;28;01mraise\u001b[39;00m RestException(json\u001b[38;5;241m.\u001b[39mloads(response\u001b[38;5;241m.\u001b[39mtext))\n\u001b[0;32m    208\u001b[0m     \u001b[38;5;28;01melse\u001b[39;00m:\n\u001b[0;32m    209\u001b[0m         base_msg \u001b[38;5;241m=\u001b[39m \u001b[38;5;124m\"\u001b[39m\u001b[38;5;124mAPI request to endpoint \u001b[39m\u001b[38;5;132;01m{}\u001b[39;00m\u001b[38;5;124m failed with error code \u001b[39m\u001b[38;5;132;01m{}\u001b[39;00m\u001b[38;5;124m != 200\u001b[39m\u001b[38;5;124m\"\u001b[39m\u001b[38;5;241m.\u001b[39mformat(\n\u001b[0;32m    210\u001b[0m             endpoint,\n\u001b[0;32m    211\u001b[0m             response\u001b[38;5;241m.\u001b[39mstatus_code,\n\u001b[0;32m    212\u001b[0m         )\n",
      "\u001b[1;31mRestException\u001b[0m: RESOURCE_DOES_NOT_EXIST: Registered Model with name=lluvias_australia not found"
     ]
    }
   ],
   "source": [
    "#Archive all the old candidates\n",
    "for current_model_version in staging_model_performances:\n",
    "    client.transition_model_version_stage(\n",
    "        name=\"lluvias_australia\", version=current_model_version, stage=\"None\"\n",
    "    )\n",
    "\n",
    "\n",
    "#If there is a new best model\n",
    "if best_model_version:\n",
    "    client.transition_model_version_stage(\n",
    "        name=\"lluvias_australia\", \n",
    "        version=best_model_version, \n",
    "        stage=\"Production\",\n",
    "        archive_existing_versions = True\n",
    "    )       "
   ]
  }
 ],
 "metadata": {
  "kernelspec": {
   "display_name": "Python 3 (ipykernel)",
   "language": "python",
   "name": "python3"
  },
  "language_info": {
   "codemirror_mode": {
    "name": "ipython",
    "version": 3
   },
   "file_extension": ".py",
   "mimetype": "text/x-python",
   "name": "python",
   "nbconvert_exporter": "python",
   "pygments_lexer": "ipython3",
   "version": "3.10.10"
  }
 },
 "nbformat": 4,
 "nbformat_minor": 5
}
