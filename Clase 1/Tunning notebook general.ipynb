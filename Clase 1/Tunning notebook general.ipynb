{
 "cells": [
  {
   "cell_type": "markdown",
   "metadata": {
    "slideshow": {
     "slide_type": "slide"
    }
   },
   "source": [
    "### Hiperparámetros\n",
    "\n",
    "---\n",
    "\n",
    "Los **hiperparámetros** son las características **externas** de un modelo,  *no se \"aprenden\"*, son valores que tiene que definirse cuando se implementa el modelo, *antes de entrenarlo*.\n",
    "\n",
    "Un ejemplo es el valor *k* en el algoritmo `KNeighborsClassifier`.\n",
    "\n",
    "Los **parámetros** son las características **internas** de un modelo, son valores estimados a partir del entrenamiento con los datos. \n",
    "\n",
    "Un ejemplo son los *coeficientes* de una regresión lineal.\n",
    "\n",
    "<img src=\"https://raw.githubusercontent.com/Digital-House-DATA/ds_blend_2021_img/master/M4/CLASE_30_Ev-Modelos_Grid-Search/Presentacion/img/M4_CLASE_30_grid_hiperparametros.png\" alt=\"hiperparametros\" style=\"width: 500px;\"/>"
   ]
  },
  {
   "cell_type": "markdown",
   "metadata": {
    "slideshow": {
     "slide_type": "slide"
    }
   },
   "source": [
    "### Hiperparámetros\n",
    "\n",
    "---\n",
    "\n",
    "No podemos saber *a priori* cuáles son los mejores valores de los **hiperparámetros** del modelo para resolver un problema determinado. \n",
    "\n",
    "Además, mientras una *configuración específica de hiperparámetros* genera una buena performance del modelo para un determinado dataset, en otro similar quizá ya no lo es.\n",
    "\n",
    "Por lo tanto, la optimización o ajuste de los hiperparámetros, **hyperparameters tuning**, es decir, la selección de un **conjunto óptimo de valores para los hiperparametros** es una parte esencial del machine learning.\n",
    "\n",
    "Pero los modelos pueden tener *muchos hiperparámetros*, y encontrar la mejor combinación nos lleva a un *problema de búsqueda de información*.\n",
    "\n",
    "<img src=\"https://raw.githubusercontent.com/Digital-House-DATA/ds_blend_2021_img/master/M4/CLASE_30_Ev-Modelos_Grid-Search/Presentacion/img/M4_CLASE_30_grid_hiperparametros_ejemplo.png\" alt=\"hiperparametros\" style=\"width: 500px;\"/>"
   ]
  },
  {
   "cell_type": "markdown",
   "metadata": {
    "slideshow": {
     "slide_type": "slide"
    }
   },
   "source": [
    "### Grid Search - Introducción\n",
    "\n",
    "---\n",
    "\n",
    "Vamos a analizar dos métodos de *hyperparameters tuning*: **Grid Search** y **Random Search**.\n",
    "\n",
    "Ambos hacen algo simple; para cada combinación de valores de los hiperparámetros: \n",
    "- los aplica sobre el *dataset de train* --> los *evalua con cross validation* --> *registra el score*.\n",
    "\n",
    "Al final de todas las búsquedas:\n",
    "\n",
    "- selecciona la combinación con **más alto score** --> aplica sobre **train** --> predice sobre **test**.\n"
   ]
  },
  {
   "cell_type": "markdown",
   "metadata": {
    "slideshow": {
     "slide_type": "subslide"
    }
   },
   "source": [
    "\n",
    "<img src=\"https://raw.githubusercontent.com/Digital-House-DATA/ds_blend_2021_img/master/M4/CLASE_30_Ev-Modelos_Grid-Search/Presentacion/img/M4_CLASE_30_grid_grid_random_2.png\" alt=\"Drawing\" width=\"70%\" />"
   ]
  },
  {
   "cell_type": "markdown",
   "metadata": {
    "slideshow": {
     "slide_type": "subslide"
    }
   },
   "source": [
    "`GridSearch` busca la mejor combinación de *hiperparámetros* dentro de una **grilla (grid)** especificada previamente. La búsqueda es **exhaustiva para cada valor de la grilla**.\n",
    "\n",
    "`RandomSearch` selecciona en forma **aleatoria** un **subset** de los *hiperparámetros*.\n",
    "\n",
    "<img src=\"https://raw.githubusercontent.com/Digital-House-DATA/ds_blend_2021_img/master/M4/CLASE_30_Ev-Modelos_Grid-Search/Presentacion/img/M4_CLASE_30_grid_grid_random_1.png\" alt=\"Drawing\" style=\"width: 500px;\"/>\n",
    "\n",
    "Es importante tener en cuenta el **costo a nivel de cómputo** de evaluar todas las combinaciones de los valores de los hiperparámetros. Por lo tanto, en algunos casos vamos a tener que elegir una **grilla reducida**, o usar **RandomSearch** que selecciona un subset de combinaciones. "
   ]
  },
  {
   "cell_type": "markdown",
   "metadata": {
    "slideshow": {
     "slide_type": "slide"
    }
   },
   "source": [
    "### Grid Search - Implementación\n",
    "\n",
    "---\n",
    "\n",
    "Para implementar en `sklearn` una búsqueda sobre **hiperparámetros** tenemos que considerar:\n",
    "\n",
    "- Un **estimador**, es decir, un modelo sobre el cual queremos trabajar.\n",
    "\n",
    "- Un **espacio de parámetros** donde vamos a hacer la búsqueda.\n",
    "\n",
    "- Un **método de busqueda** sobre los modelos candidatos (`RandomSearch`,`GridSearch`).\n",
    "\n",
    "- Un **esquema de validación cruzada**, seleccionando la cantidad de folds.\n",
    "\n",
    "- La **métrica de evaluación** para elegir el mejor modelo.\n"
   ]
  },
  {
   "cell_type": "markdown",
   "metadata": {
    "slideshow": {
     "slide_type": "subslide"
    }
   },
   "source": [
    "Por ejemplo:\n",
    "\n",
    "- Un **estimador**, el modelo KNN.\n",
    "\n",
    "- Un **espacio de parámetros**, el parámetro `n_neighbors` con un rango de valores entre 1 y 30.\n",
    "\n",
    "- Un **método de busqueda**, `RandomSearch`.\n",
    "\n",
    "- Un **esquema de validación cruzada**, Cross validation con 10 folds.\n",
    "\n",
    "- La **métrica de evaluación**, maximizar `accuracy`.\n"
   ]
  },
  {
   "cell_type": "markdown",
   "metadata": {
    "slideshow": {
     "slide_type": "slide"
    }
   },
   "source": [
    "<div class=\"div-dhds-fondo-1\"> Dataset \n",
    "<img src=\"https://raw.githubusercontent.com/Digital-House-DATA/ds_blend_2021_img/master/M3/CLASE_21_Regresion_Lineal_Simple/Presentacion/img/M3_CLASE_21_separador.png\" align=\"center\" />\n",
    "\n",
    "</div>"
   ]
  },
  {
   "cell_type": "markdown",
   "metadata": {
    "slideshow": {
     "slide_type": "slide"
    }
   },
   "source": [
    "###  Dataset\n",
    "\n",
    "---\n",
    "Vamos a aplicar **GridSearch** y **RandomSearch** sobre el dataset de abalones."
   ]
  },
  {
   "cell_type": "code",
   "execution_count": 1,
   "metadata": {
    "slideshow": {
     "slide_type": "skip"
    }
   },
   "outputs": [],
   "source": [
    "from sklearn import preprocessing\n",
    "from sklearn import datasets\n",
    "from sklearn.model_selection import train_test_split\n",
    "from sklearn.datasets import make_classification\n",
    "from sklearn.metrics import confusion_matrix\n",
    "from sklearn.preprocessing import StandardScaler\n",
    "import matplotlib.pyplot as plt\n",
    "import pandas as pd\n",
    "import numpy as np\n",
    "import seaborn as sns"
   ]
  },
  {
   "cell_type": "code",
   "execution_count": 2,
   "metadata": {
    "slideshow": {
     "slide_type": "fragment"
    }
   },
   "outputs": [
    {
     "name": "stdout",
     "output_type": "stream",
     "text": [
      "Filas: 3676 Columnas: 10\n"
     ]
    },
    {
     "data": {
      "text/html": [
       "<div>\n",
       "<style scoped>\n",
       "    .dataframe tbody tr th:only-of-type {\n",
       "        vertical-align: middle;\n",
       "    }\n",
       "\n",
       "    .dataframe tbody tr th {\n",
       "        vertical-align: top;\n",
       "    }\n",
       "\n",
       "    .dataframe thead th {\n",
       "        text-align: right;\n",
       "    }\n",
       "</style>\n",
       "<table border=\"1\" class=\"dataframe\">\n",
       "  <thead>\n",
       "    <tr style=\"text-align: right;\">\n",
       "      <th></th>\n",
       "      <th>Sex</th>\n",
       "      <th>Length</th>\n",
       "      <th>Diameter</th>\n",
       "      <th>Height</th>\n",
       "      <th>Whole_weight</th>\n",
       "      <th>Shucked_weight</th>\n",
       "      <th>Viscera_weight</th>\n",
       "      <th>Shell_weight</th>\n",
       "      <th>Rings</th>\n",
       "      <th>Adulto</th>\n",
       "    </tr>\n",
       "  </thead>\n",
       "  <tbody>\n",
       "    <tr>\n",
       "      <th>758</th>\n",
       "      <td>M</td>\n",
       "      <td>0.570</td>\n",
       "      <td>0.440</td>\n",
       "      <td>0.155</td>\n",
       "      <td>1.116</td>\n",
       "      <td>0.4775</td>\n",
       "      <td>0.2315</td>\n",
       "      <td>0.2700</td>\n",
       "      <td>13</td>\n",
       "      <td>1</td>\n",
       "    </tr>\n",
       "    <tr>\n",
       "      <th>1765</th>\n",
       "      <td>I</td>\n",
       "      <td>0.375</td>\n",
       "      <td>0.245</td>\n",
       "      <td>0.100</td>\n",
       "      <td>0.394</td>\n",
       "      <td>0.1660</td>\n",
       "      <td>0.0910</td>\n",
       "      <td>0.1125</td>\n",
       "      <td>6</td>\n",
       "      <td>0</td>\n",
       "    </tr>\n",
       "    <tr>\n",
       "      <th>548</th>\n",
       "      <td>F</td>\n",
       "      <td>0.565</td>\n",
       "      <td>0.450</td>\n",
       "      <td>0.160</td>\n",
       "      <td>0.795</td>\n",
       "      <td>0.3605</td>\n",
       "      <td>0.1555</td>\n",
       "      <td>0.2300</td>\n",
       "      <td>12</td>\n",
       "      <td>1</td>\n",
       "    </tr>\n",
       "  </tbody>\n",
       "</table>\n",
       "</div>"
      ],
      "text/plain": [
       "     Sex  Length  Diameter  Height  Whole_weight  Shucked_weight  \\\n",
       "758    M   0.570     0.440   0.155         1.116          0.4775   \n",
       "1765   I   0.375     0.245   0.100         0.394          0.1660   \n",
       "548    F   0.565     0.450   0.160         0.795          0.3605   \n",
       "\n",
       "      Viscera_weight  Shell_weight  Rings  Adulto  \n",
       "758           0.2315        0.2700     13       1  \n",
       "1765          0.0910        0.1125      6       0  \n",
       "548           0.1555        0.2300     12       1  "
      ]
     },
     "execution_count": 2,
     "metadata": {},
     "output_type": "execute_result"
    }
   ],
   "source": [
    "df = pd.read_csv('abalone.csv', sep=';')\n",
    "print('Filas:', df.shape[0], 'Columnas:', df.shape[1])\n",
    "df.sample(3)"
   ]
  },
  {
   "cell_type": "markdown",
   "metadata": {
    "slideshow": {
     "slide_type": "fragment"
    }
   },
   "source": [
    "Armamos la matriz de features ($X$) y el target ($y$)"
   ]
  },
  {
   "cell_type": "code",
   "execution_count": 3,
   "metadata": {
    "slideshow": {
     "slide_type": "fragment"
    }
   },
   "outputs": [],
   "source": [
    "X = df.drop(['Adulto','Sex'], axis=1)\n",
    "y = df['Adulto']"
   ]
  },
  {
   "cell_type": "markdown",
   "metadata": {
    "slideshow": {
     "slide_type": "fragment"
    }
   },
   "source": [
    "Vemos la distribución de los labels de la clase."
   ]
  },
  {
   "cell_type": "code",
   "execution_count": 4,
   "metadata": {
    "slideshow": {
     "slide_type": "fragment"
    }
   },
   "outputs": [
    {
     "name": "stdout",
     "output_type": "stream",
     "text": [
      "Adulto\n",
      "0    2073\n",
      "1    1603\n",
      "Name: Adulto, dtype: int64\n"
     ]
    }
   ],
   "source": [
    "print(y.groupby(y).count())"
   ]
  },
  {
   "cell_type": "markdown",
   "metadata": {
    "slideshow": {
     "slide_type": "subslide"
    }
   },
   "source": [
    "Hacemos el split entre train y test."
   ]
  },
  {
   "cell_type": "code",
   "execution_count": 5,
   "metadata": {
    "slideshow": {
     "slide_type": "fragment"
    }
   },
   "outputs": [
    {
     "name": "stdout",
     "output_type": "stream",
     "text": [
      "(2573, 8) (1103, 8) (2573,) (1103,)\n"
     ]
    }
   ],
   "source": [
    "X_train, X_test, y_train, y_test = train_test_split(X, y, test_size = 0.30, random_state=56)\n",
    "print(X_train.shape, X_test.shape, y_train.shape, y_test.shape)"
   ]
  },
  {
   "cell_type": "markdown",
   "metadata": {
    "slideshow": {
     "slide_type": "fragment"
    }
   },
   "source": [
    "Debemos estandarizar las features, ya que las escalas entre algunas de ellas son distintas."
   ]
  },
  {
   "cell_type": "code",
   "execution_count": 6,
   "metadata": {
    "slideshow": {
     "slide_type": "fragment"
    }
   },
   "outputs": [],
   "source": [
    "# Utilizamos sklearn para estandarizar la matriz de Features\n",
    "from sklearn.preprocessing import StandardScaler\n",
    "scaler = StandardScaler()\n",
    "X_train = pd.DataFrame(scaler.fit_transform(X_train))\n",
    "X_test = pd.DataFrame(scaler.transform(X_test))"
   ]
  },
  {
   "cell_type": "markdown",
   "metadata": {
    "slideshow": {
     "slide_type": "slide"
    }
   },
   "source": [
    "###  Hiperparámetros de un modelo\n",
    "\n",
    "---\n",
    "Podemos conocer todos los hiperparámetros de los modelos con el método `get_params`.\n",
    "\n",
    "Por ejemplo, veamos los del modelo *KNN, vecinos más cercanos*. "
   ]
  },
  {
   "cell_type": "code",
   "execution_count": 7,
   "metadata": {
    "slideshow": {
     "slide_type": "fragment"
    }
   },
   "outputs": [
    {
     "data": {
      "text/plain": [
       "{'algorithm': 'auto',\n",
       " 'leaf_size': 30,\n",
       " 'metric': 'minkowski',\n",
       " 'metric_params': None,\n",
       " 'n_jobs': None,\n",
       " 'n_neighbors': 5,\n",
       " 'p': 2,\n",
       " 'weights': 'uniform'}"
      ]
     },
     "execution_count": 7,
     "metadata": {},
     "output_type": "execute_result"
    }
   ],
   "source": [
    "from sklearn.neighbors import KNeighborsClassifier\n",
    "model = KNeighborsClassifier()\n",
    "model.get_params()"
   ]
  },
  {
   "cell_type": "markdown",
   "metadata": {
    "slideshow": {
     "slide_type": "slide"
    }
   },
   "source": [
    "###  Prueba manual\n",
    "\n",
    "---\n",
    "Antes de usar los métodos `RandomSearch` o `GridSearch` para realizar el *tuning de los hiperparámetros*, es conveniente realizar **manualmente una prueba** con distintos valores para los hiperparámetros a evaluar.\n",
    "\n",
    "Vamos a calcular el valor de **accuracy** para distintos valores K del hiperparámetro `n_neighbors`, para conocer el valor óptimo.\n",
    "\n",
    "Recordemos que para la evaluación usamos *cross validation*."
   ]
  },
  {
   "cell_type": "markdown",
   "metadata": {
    "slideshow": {
     "slide_type": "subslide"
    }
   },
   "source": [
    "Para hacerlo consideramos el método [`cross_val_score`](https://scikit-learn.org/stable/modules/generated/sklearn.model_selection.cross_val_score.html), que evalúa los resultados de una métrica en un esquema de validación cruzada. \n",
    "\n",
    "En el parámetro `scoring='accuracy'` indicamos la métrica.\n",
    "\n",
    "Y el parámetro `cv=10` para definir 10 folds, lo reemplazamos usando previamente el método [`StratifiedKFold`](https://scikit-learn.org/stable/modules/generated/sklearn.model_selection.StratifiedKFold.html) que asegura que los 10 folds cuentan con casos seleccionados en forma aleatoria *manteniendo la distribución original de las etiquetas*."
   ]
  },
  {
   "cell_type": "code",
   "execution_count": 8,
   "metadata": {
    "slideshow": {
     "slide_type": "fragment"
    }
   },
   "outputs": [],
   "source": [
    "# n_splits = permite determinar la cantidad de folds\n",
    "# random_state = nos permite definir una semilla para asegura reproducibilidad\n",
    "# shuffle = nos asegura que las particiones se van a hacer en forma aleatoria\n",
    "from sklearn.model_selection import StratifiedKFold\n",
    "folds=StratifiedKFold(n_splits=10, random_state=19, shuffle=True)"
   ]
  },
  {
   "cell_type": "markdown",
   "metadata": {
    "slideshow": {
     "slide_type": "subslide"
    }
   },
   "source": [
    "Hacemos un *for* para recorrer distintos valores de K, evaluamos los scores de la validación cruzada de los datos de train y guardamos el promedio de los scores."
   ]
  },
  {
   "cell_type": "code",
   "execution_count": 9,
   "metadata": {
    "slideshow": {
     "slide_type": "fragment"
    }
   },
   "outputs": [],
   "source": [
    "from sklearn.model_selection import cross_val_score\n",
    "k_range = list(range(1, 31))\n",
    "k_scores = []\n",
    "for k in k_range:\n",
    "    knn = KNeighborsClassifier(n_neighbors=k)\n",
    "    scores = cross_val_score(knn, X_train, y_train, cv=folds, scoring='accuracy')\n",
    "    k_scores.append(scores.mean())"
   ]
  },
  {
   "cell_type": "markdown",
   "metadata": {
    "slideshow": {
     "slide_type": "fragment"
    }
   },
   "source": [
    "En la lista `k_scores` encontramos los valores promedio de **accuracy** para los distintos valores de **k**."
   ]
  },
  {
   "cell_type": "code",
   "execution_count": 10,
   "metadata": {},
   "outputs": [
    {
     "name": "stdout",
     "output_type": "stream",
     "text": [
      "K=1:0.8492|| K=2:0.8496|| K=3:0.8838|| K=4:0.8768|| K=5:0.8900|| K=6:0.8885|| K=7:0.8920|| K=8:0.8912|| K=9:0.8947|| K=10:0.8935|| K=11:0.8920|| K=12:0.8920|| K=13:0.8966|| K=14:0.8908|| K=15:0.8935|| K=16:0.8892|| K=17:0.8947|| K=18:0.8923|| K=19:0.8951|| K=20:0.8939|| K=21:0.8927|| K=22:0.8916|| K=23:0.8927|| K=24:0.8923|| K=25:0.8951|| K=26:0.8927|| K=27:0.8920|| K=28:0.8900|| K=29:0.8912|| K=30:0.8888|| "
     ]
    }
   ],
   "source": [
    "for i, value in enumerate(k_scores):\n",
    "     print('K=', i+1,':','%.4f'%value,'||',end=' ',sep='')"
   ]
  },
  {
   "cell_type": "markdown",
   "metadata": {
    "slideshow": {
     "slide_type": "subslide"
    }
   },
   "source": [
    "Grafiquemos estos resultados."
   ]
  },
  {
   "cell_type": "code",
   "execution_count": 11,
   "metadata": {
    "slideshow": {
     "slide_type": "fragment"
    }
   },
   "outputs": [
    {
     "data": {
      "image/png": "[encoded data removed]",
      "text/plain": [
       "<Figure size 432x288 with 1 Axes>"
      ]
     },
     "metadata": {
      "needs_background": "light"
     },
     "output_type": "display_data"
    }
   ],
   "source": [
    "plt.plot(k_range, k_scores)\n",
    "plt.xlabel('Value of K for KNN')\n",
    "plt.ylabel('Cross-Validated Accuracy')\n",
    "plt.grid()"
   ]
  },
  {
   "cell_type": "markdown",
   "metadata": {
    "slideshow": {
     "slide_type": "fragment"
    }
   },
   "source": [
    "Confirmamos que el **k** óptimo es 13 con un score de validación de 0.8966."
   ]
  },
  {
   "cell_type": "markdown",
   "metadata": {
    "slideshow": {
     "slide_type": "slide"
    }
   },
   "source": [
    "### Grid Search - Implementación\n",
    "\n",
    "---\n",
    "\n",
    "Ahora trabajemos con el método `GridSearchCV` que básicamente va a implementar en forma automática la búsqueda y analisis de los hiperparámetros que realizamos en forma manual.\n",
    "\n",
    "\n",
    "Recordemos que para implementar en `sklearn` una búsqueda sobre **hiperparámetros** tenemos que considerar:\n",
    "\n",
    "- Un **estimador**, es decir, un modelo sobre el cual queremos trabajar.\n",
    "\n",
    "- Un **espacio de parámetros** donde vamos a hacer la búsqueda.\n",
    "\n",
    "- Un **método de busqueda** sobre los modelos candidatos (`RandomSearch`,`GridSearch`).\n",
    "\n",
    "- Un **esquema de validación cruzada**, seleccionando la cantidad de folds.\n",
    "\n",
    "- Una **métrica de evaluación** para elegir el mejor modelo.\n"
   ]
  },
  {
   "cell_type": "markdown",
   "metadata": {
    "slideshow": {
     "slide_type": "subslide"
    }
   },
   "source": [
    "`GridSearchCV` lo implementa en sus parámetros:\n",
    "- **estimator =** Modelo instanciado.\n",
    "- **param_grid=** Grilla de parametros para recorrer. Un diccionario cuyas claves son pares (nombre hiperparámetro, lista de valores).\n",
    "- **cv=** Cantidad de folds para la validación cruzada.\n",
    "- **scoring=** Métrica usada para evaluar. \n",
    "\n",
    "Y uno opcional, pero importante porque las búsquedas exhaustivas pueden consumir mucha CPU: \n",
    "- **n_jobs=** Número de procesadores que corren en paralelo."
   ]
  },
  {
   "cell_type": "markdown",
   "metadata": {
    "slideshow": {
     "slide_type": "slide"
    }
   },
   "source": [
    "### Grid Search - Implementación\n",
    "\n",
    "---\n",
    "\n",
    "Avancemos con la implementación."
   ]
  },
  {
   "cell_type": "code",
   "execution_count": 12,
   "metadata": {
    "slideshow": {
     "slide_type": "fragment"
    }
   },
   "outputs": [],
   "source": [
    "from sklearn.model_selection import GridSearchCV"
   ]
  },
  {
   "cell_type": "markdown",
   "metadata": {
    "slideshow": {
     "slide_type": "fragment"
    }
   },
   "source": [
    "**Estimador**: el modelo instanciado."
   ]
  },
  {
   "cell_type": "code",
   "execution_count": 13,
   "metadata": {
    "slideshow": {
     "slide_type": "fragment"
    }
   },
   "outputs": [],
   "source": [
    "knn = KNeighborsClassifier()"
   ]
  },
  {
   "cell_type": "markdown",
   "metadata": {
    "slideshow": {
     "slide_type": "fragment"
    }
   },
   "source": [
    "**Espacio de parámetros:** grilla de parámetros que queremos testear. Diccionario con las claves *nombre=rango de valores*."
   ]
  },
  {
   "cell_type": "code",
   "execution_count": 14,
   "metadata": {
    "slideshow": {
     "slide_type": "fragment"
    }
   },
   "outputs": [
    {
     "name": "stdout",
     "output_type": "stream",
     "text": [
      "{'n_neighbors': [1, 2, 3, 4, 5, 6, 7, 8, 9, 10, 11, 12, 13, 14, 15, 16, 17, 18, 19, 20, 21, 22, 23, 24, 25, 26, 27, 28, 29, 30]}\n"
     ]
    }
   ],
   "source": [
    "k_range = list(range(1, 31))\n",
    "param_grid = dict(n_neighbors=k_range)\n",
    "print(param_grid)"
   ]
  },
  {
   "cell_type": "markdown",
   "metadata": {
    "slideshow": {
     "slide_type": "subslide"
    }
   },
   "source": [
    "**Esquema de validación cruzada:** definimos la cantidad de folds, con el método `StratifiedKFold`"
   ]
  },
  {
   "cell_type": "code",
   "execution_count": 15,
   "metadata": {
    "slideshow": {
     "slide_type": "fragment"
    }
   },
   "outputs": [],
   "source": [
    "folds=StratifiedKFold(n_splits=10, random_state=19, shuffle=True)"
   ]
  },
  {
   "cell_type": "markdown",
   "metadata": {
    "slideshow": {
     "slide_type": "fragment"
    }
   },
   "source": [
    "**Método de busqueda:** GridSearchCV.\n",
    "\n",
    "**Métrica de evaluación:** Accuracy."
   ]
  },
  {
   "cell_type": "code",
   "execution_count": 16,
   "metadata": {
    "slideshow": {
     "slide_type": "fragment"
    }
   },
   "outputs": [],
   "source": [
    "grid = GridSearchCV(knn, param_grid, cv=folds, scoring='accuracy')"
   ]
  },
  {
   "cell_type": "markdown",
   "metadata": {
    "slideshow": {
     "slide_type": "fragment"
    }
   },
   "source": [
    "Entrenamos utilizando el método `.fit` de grid. Puede tardar; recordemos que hace una búsqueda exhaustiva."
   ]
  },
  {
   "cell_type": "code",
   "execution_count": 17,
   "metadata": {
    "slideshow": {
     "slide_type": "fragment"
    }
   },
   "outputs": [
    {
     "data": {
      "text/plain": [
       "GridSearchCV(cv=StratifiedKFold(n_splits=10, random_state=19, shuffle=True),\n",
       "             estimator=KNeighborsClassifier(),\n",
       "             param_grid={'n_neighbors': [1, 2, 3, 4, 5, 6, 7, 8, 9, 10, 11, 12,\n",
       "                                         13, 14, 15, 16, 17, 18, 19, 20, 21, 22,\n",
       "                                         23, 24, 25, 26, 27, 28, 29, 30]},\n",
       "             scoring='accuracy')"
      ]
     },
     "execution_count": 17,
     "metadata": {},
     "output_type": "execute_result"
    }
   ],
   "source": [
    "grid.fit(X_train, y_train)"
   ]
  },
  {
   "cell_type": "markdown",
   "metadata": {
    "slideshow": {
     "slide_type": "slide"
    }
   },
   "source": [
    "### Grid Search - Implementación\n",
    "\n",
    "---\n",
    "Analicemos los resultados.\n",
    "\n",
    "`GridSeachCV` devuelve en **cv\\_results\\_** información sobre la evaluación de los hiperparámetros. \n",
    "\n",
    "Observamos el score obtenido en cada split, el **mean_test_score** y el **std_test_score**.\n",
    "\n",
    "Y además, encontramos **rank_test_score** que nos indica cuál fue el hiperparámetro con mejor score de validación."
   ]
  },
  {
   "cell_type": "code",
   "execution_count": 18,
   "metadata": {
    "slideshow": {
     "slide_type": "fragment"
    }
   },
   "outputs": [
    {
     "data": {
      "text/html": [
       "<div>\n",
       "<style scoped>\n",
       "    .dataframe tbody tr th:only-of-type {\n",
       "        vertical-align: middle;\n",
       "    }\n",
       "\n",
       "    .dataframe tbody tr th {\n",
       "        vertical-align: top;\n",
       "    }\n",
       "\n",
       "    .dataframe thead th {\n",
       "        text-align: right;\n",
       "    }\n",
       "</style>\n",
       "<table border=\"1\" class=\"dataframe\">\n",
       "  <thead>\n",
       "    <tr style=\"text-align: right;\">\n",
       "      <th></th>\n",
       "      <th>mean_fit_time</th>\n",
       "      <th>std_fit_time</th>\n",
       "      <th>mean_score_time</th>\n",
       "      <th>std_score_time</th>\n",
       "      <th>param_n_neighbors</th>\n",
       "      <th>params</th>\n",
       "      <th>split0_test_score</th>\n",
       "      <th>split1_test_score</th>\n",
       "      <th>split2_test_score</th>\n",
       "      <th>split3_test_score</th>\n",
       "      <th>split4_test_score</th>\n",
       "      <th>split5_test_score</th>\n",
       "      <th>split6_test_score</th>\n",
       "      <th>split7_test_score</th>\n",
       "      <th>split8_test_score</th>\n",
       "      <th>split9_test_score</th>\n",
       "      <th>mean_test_score</th>\n",
       "      <th>std_test_score</th>\n",
       "      <th>rank_test_score</th>\n",
       "    </tr>\n",
       "  </thead>\n",
       "  <tbody>\n",
       "    <tr>\n",
       "      <th>0</th>\n",
       "      <td>0.004058</td>\n",
       "      <td>0.000726</td>\n",
       "      <td>0.009484</td>\n",
       "      <td>0.001184</td>\n",
       "      <td>1</td>\n",
       "      <td>{'n_neighbors': 1}</td>\n",
       "      <td>0.879845</td>\n",
       "      <td>0.860465</td>\n",
       "      <td>0.813953</td>\n",
       "      <td>0.856031</td>\n",
       "      <td>0.824903</td>\n",
       "      <td>0.821012</td>\n",
       "      <td>0.856031</td>\n",
       "      <td>0.840467</td>\n",
       "      <td>0.867704</td>\n",
       "      <td>0.871595</td>\n",
       "      <td>0.849201</td>\n",
       "      <td>0.021695</td>\n",
       "      <td>30</td>\n",
       "    </tr>\n",
       "    <tr>\n",
       "      <th>1</th>\n",
       "      <td>0.003406</td>\n",
       "      <td>0.000494</td>\n",
       "      <td>0.009396</td>\n",
       "      <td>0.001194</td>\n",
       "      <td>2</td>\n",
       "      <td>{'n_neighbors': 2}</td>\n",
       "      <td>0.844961</td>\n",
       "      <td>0.852713</td>\n",
       "      <td>0.833333</td>\n",
       "      <td>0.844358</td>\n",
       "      <td>0.832685</td>\n",
       "      <td>0.852140</td>\n",
       "      <td>0.863813</td>\n",
       "      <td>0.828794</td>\n",
       "      <td>0.867704</td>\n",
       "      <td>0.875486</td>\n",
       "      <td>0.849599</td>\n",
       "      <td>0.014996</td>\n",
       "      <td>29</td>\n",
       "    </tr>\n",
       "    <tr>\n",
       "      <th>2</th>\n",
       "      <td>0.002505</td>\n",
       "      <td>0.001022</td>\n",
       "      <td>0.008945</td>\n",
       "      <td>0.002977</td>\n",
       "      <td>3</td>\n",
       "      <td>{'n_neighbors': 3}</td>\n",
       "      <td>0.922481</td>\n",
       "      <td>0.875969</td>\n",
       "      <td>0.856589</td>\n",
       "      <td>0.887160</td>\n",
       "      <td>0.887160</td>\n",
       "      <td>0.887160</td>\n",
       "      <td>0.875486</td>\n",
       "      <td>0.867704</td>\n",
       "      <td>0.883268</td>\n",
       "      <td>0.894942</td>\n",
       "      <td>0.883792</td>\n",
       "      <td>0.016687</td>\n",
       "      <td>27</td>\n",
       "    </tr>\n",
       "  </tbody>\n",
       "</table>\n",
       "</div>"
      ],
      "text/plain": [
       "   mean_fit_time  std_fit_time  mean_score_time  std_score_time  \\\n",
       "0       0.004058      0.000726         0.009484        0.001184   \n",
       "1       0.003406      0.000494         0.009396        0.001194   \n",
       "2       0.002505      0.001022         0.008945        0.002977   \n",
       "\n",
       "  param_n_neighbors              params  split0_test_score  split1_test_score  \\\n",
       "0                 1  {'n_neighbors': 1}           0.879845           0.860465   \n",
       "1                 2  {'n_neighbors': 2}           0.844961           0.852713   \n",
       "2                 3  {'n_neighbors': 3}           0.922481           0.875969   \n",
       "\n",
       "   split2_test_score  split3_test_score  split4_test_score  split5_test_score  \\\n",
       "0           0.813953           0.856031           0.824903           0.821012   \n",
       "1           0.833333           0.844358           0.832685           0.852140   \n",
       "2           0.856589           0.887160           0.887160           0.887160   \n",
       "\n",
       "   split6_test_score  split7_test_score  split8_test_score  split9_test_score  \\\n",
       "0           0.856031           0.840467           0.867704           0.871595   \n",
       "1           0.863813           0.828794           0.867704           0.875486   \n",
       "2           0.875486           0.867704           0.883268           0.894942   \n",
       "\n",
       "   mean_test_score  std_test_score  rank_test_score  \n",
       "0         0.849201        0.021695               30  \n",
       "1         0.849599        0.014996               29  \n",
       "2         0.883792        0.016687               27  "
      ]
     },
     "execution_count": 18,
     "metadata": {},
     "output_type": "execute_result"
    }
   ],
   "source": [
    "pd.DataFrame(grid.cv_results_).head(3)"
   ]
  },
  {
   "cell_type": "markdown",
   "metadata": {
    "slideshow": {
     "slide_type": "subslide"
    }
   },
   "source": [
    "- **.best\\_estimator\\_** señala el mejor modelo. Informa el  **número óptimo de vecinos**; es similar a lo observado en el proceso manual."
   ]
  },
  {
   "cell_type": "code",
   "execution_count": 19,
   "metadata": {
    "slideshow": {
     "slide_type": "fragment"
    }
   },
   "outputs": [
    {
     "data": {
      "text/plain": [
       "KNeighborsClassifier(n_neighbors=13)"
      ]
     },
     "execution_count": 19,
     "metadata": {},
     "output_type": "execute_result"
    }
   ],
   "source": [
    "grid.best_estimator_"
   ]
  },
  {
   "cell_type": "markdown",
   "metadata": {
    "slideshow": {
     "slide_type": "fragment"
    }
   },
   "source": [
    "- **best\\_score\\_** nos indica cuál fue la performance promedio del score de validación del grid search"
   ]
  },
  {
   "cell_type": "code",
   "execution_count": 20,
   "metadata": {
    "slideshow": {
     "slide_type": "fragment"
    }
   },
   "outputs": [
    {
     "data": {
      "text/plain": [
       "0.8966171990468436"
      ]
     },
     "execution_count": 20,
     "metadata": {},
     "output_type": "execute_result"
    }
   ],
   "source": [
    "grid.best_score_"
   ]
  },
  {
   "cell_type": "markdown",
   "metadata": {
    "slideshow": {
     "slide_type": "fragment"
    }
   },
   "source": [
    "- **best\\_params\\_** muestra los valores seleccionados de los hiperparámetros."
   ]
  },
  {
   "cell_type": "code",
   "execution_count": 21,
   "metadata": {
    "slideshow": {
     "slide_type": "fragment"
    }
   },
   "outputs": [
    {
     "data": {
      "text/plain": [
       "{'n_neighbors': 13}"
      ]
     },
     "execution_count": 21,
     "metadata": {},
     "output_type": "execute_result"
    }
   ],
   "source": [
    "grid.best_params_"
   ]
  },
  {
   "cell_type": "markdown",
   "metadata": {
    "slideshow": {
     "slide_type": "slide"
    }
   },
   "source": [
    "### Grid Search - Testing\n",
    "\n",
    "---\n",
    "Ahora debemos hacer lo que siempre hacemos con los modelos. **Ver su performance sobre los datos de test**.\n",
    "\n",
    "`GridSeachCV` tiene un método `predict` sobre el objeto `grid` que usa el modelo entrenado con los datos de train y con la mejor combinación de hiperparámetros. "
   ]
  },
  {
   "cell_type": "code",
   "execution_count": 22,
   "metadata": {
    "slideshow": {
     "slide_type": "fragment"
    }
   },
   "outputs": [],
   "source": [
    "y_pred_grid = grid.predict(X_test)"
   ]
  },
  {
   "cell_type": "markdown",
   "metadata": {
    "slideshow": {
     "slide_type": "fragment"
    }
   },
   "source": [
    "Veamos la **matriz de confusión**.    "
   ]
  },
  {
   "cell_type": "code",
   "execution_count": 23,
   "metadata": {
    "slideshow": {
     "slide_type": "fragment"
    }
   },
   "outputs": [
    {
     "name": "stdout",
     "output_type": "stream",
     "text": [
      "[[567  78]\n",
      " [ 53 405]]\n"
     ]
    }
   ],
   "source": [
    "confusion = confusion_matrix(y_test, y_pred_grid)\n",
    "print(confusion)"
   ]
  },
  {
   "cell_type": "markdown",
   "metadata": {
    "slideshow": {
     "slide_type": "subslide"
    }
   },
   "source": [
    "Podemos importar de **sklearn**, [`classification_report`](https://scikit-learn.org/stable/modules/generated/sklearn.metrics.classification_report.html) que brinda un reporte completo de las principales **métricas de evaluación**."
   ]
  },
  {
   "cell_type": "code",
   "execution_count": 24,
   "metadata": {
    "slideshow": {
     "slide_type": "fragment"
    }
   },
   "outputs": [
    {
     "name": "stdout",
     "output_type": "stream",
     "text": [
      "              precision    recall  f1-score   support\n",
      "\n",
      "           0       0.91      0.88      0.90       645\n",
      "           1       0.84      0.88      0.86       458\n",
      "\n",
      "    accuracy                           0.88      1103\n",
      "   macro avg       0.88      0.88      0.88      1103\n",
      "weighted avg       0.88      0.88      0.88      1103\n",
      "\n"
     ]
    }
   ],
   "source": [
    "from sklearn.metrics import classification_report, confusion_matrix\n",
    "print (classification_report(y_test, y_pred_grid))"
   ]
  },
  {
   "cell_type": "markdown",
   "metadata": {
    "slideshow": {
     "slide_type": "fragment"
    }
   },
   "source": [
    "- Informa las métricas por *label de la clase*. Vemos que funciona mejor para la clase negativa (0) que para la positiva (1).\n",
    "\n",
    "- **accuracy** es 0.88.\n",
    "\n",
    "- **support** indica el total de casos por etiqueta. Y 1103 es el total de casos. \n",
    "\n",
    "- **macro avg** es la media de cada métrica de evaluación para el total de los casos.\n",
    "\n",
    "- **weighted avg** es lo mismo que el anterior, pero se calcula la media ponderada por **support**, es decir, teniendo en cuenta la cantidad de casos de cada clase. Este promedio toma en cuenta el potencial **desbalanceo de clases**. En este caso son similares porque no lo tenemos."
   ]
  },
  {
   "cell_type": "markdown",
   "metadata": {
    "slideshow": {
     "slide_type": "slide"
    }
   },
   "source": [
    "### Randomized Search\n",
    "\n",
    "---\n",
    "Usemos el otro método: [`RandomizedSearchCV`](https://scikit-learn.org/stable/modules/generated/sklearn.model_selection.RandomizedSearchCV.html). \n",
    "\n",
    "Recuerden que la diferencia es que no explora **todo el espacio** de hiperparámetros sino  **combinaciones al azar**. \n",
    "\n",
    "Aunque no cubre todo el espacio, puede tener sus ventajas cuando trabajamos con datasets muy pesados, o espacios de hiperparámetros muy grandes."
   ]
  },
  {
   "cell_type": "code",
   "execution_count": 25,
   "metadata": {
    "slideshow": {
     "slide_type": "fragment"
    }
   },
   "outputs": [],
   "source": [
    "from sklearn.model_selection import RandomizedSearchCV"
   ]
  },
  {
   "cell_type": "markdown",
   "metadata": {
    "slideshow": {
     "slide_type": "fragment"
    }
   },
   "source": [
    "Los parámetros de `RandomizedSearchCV` son los mismos que los de `GridSearchCV` pero se agrega `n_iter` que indica el número de combinaciones de hiperparámetros que queremos seleccionar al azar de la grilla que definimos. \n",
    "\n",
    "Por default está seteado en **10**. "
   ]
  },
  {
   "cell_type": "markdown",
   "metadata": {
    "slideshow": {
     "slide_type": "subslide"
    }
   },
   "source": [
    "Armamos nuevamente nuestra **grilla de hiperparámetros**."
   ]
  },
  {
   "cell_type": "code",
   "execution_count": 26,
   "metadata": {
    "slideshow": {
     "slide_type": "fragment"
    }
   },
   "outputs": [
    {
     "name": "stdout",
     "output_type": "stream",
     "text": [
      "{'n_neighbors': [1, 2, 3, 4, 5, 6, 7, 8, 9, 10, 11, 12, 13, 14, 15, 16, 17, 18, 19, 20, 21, 22, 23, 24, 25, 26, 27, 28, 29, 30]}\n"
     ]
    }
   ],
   "source": [
    "k_range = list(range(1, 31))\n",
    "param_grid = dict(n_neighbors=k_range)\n",
    "print(param_grid)"
   ]
  },
  {
   "cell_type": "markdown",
   "metadata": {
    "slideshow": {
     "slide_type": "fragment"
    }
   },
   "source": [
    "Ahora el tuning se realiza con combinaciones aleatorias de `k`."
   ]
  },
  {
   "cell_type": "code",
   "execution_count": 27,
   "metadata": {
    "slideshow": {
     "slide_type": "fragment"
    }
   },
   "outputs": [
    {
     "data": {
      "text/plain": [
       "RandomizedSearchCV(cv=StratifiedKFold(n_splits=10, random_state=19, shuffle=True),\n",
       "                   estimator=KNeighborsClassifier(), n_iter=20,\n",
       "                   param_distributions={'n_neighbors': [1, 2, 3, 4, 5, 6, 7, 8,\n",
       "                                                        9, 10, 11, 12, 13, 14,\n",
       "                                                        15, 16, 17, 18, 19, 20,\n",
       "                                                        21, 22, 23, 24, 25, 26,\n",
       "                                                        27, 28, 29, 30]},\n",
       "                   random_state=10, scoring='accuracy')"
      ]
     },
     "execution_count": 27,
     "metadata": {},
     "output_type": "execute_result"
    }
   ],
   "source": [
    "random = RandomizedSearchCV(knn, param_grid, n_iter=20, cv=folds, scoring='accuracy',random_state=10)\n",
    "random.fit(X_train, y_train)"
   ]
  },
  {
   "cell_type": "markdown",
   "metadata": {
    "slideshow": {
     "slide_type": "slide"
    }
   },
   "source": [
    "### Randomized Search\n",
    "\n",
    "---\n",
    "Analizamos los resultados.\n",
    "\n",
    "Los mismos métodos que tenemos con `GridSearchCV` los tenemos acá. "
   ]
  },
  {
   "cell_type": "code",
   "execution_count": 28,
   "metadata": {
    "slideshow": {
     "slide_type": "fragment"
    }
   },
   "outputs": [
    {
     "data": {
      "text/html": [
       "<div>\n",
       "<style scoped>\n",
       "    .dataframe tbody tr th:only-of-type {\n",
       "        vertical-align: middle;\n",
       "    }\n",
       "\n",
       "    .dataframe tbody tr th {\n",
       "        vertical-align: top;\n",
       "    }\n",
       "\n",
       "    .dataframe thead th {\n",
       "        text-align: right;\n",
       "    }\n",
       "</style>\n",
       "<table border=\"1\" class=\"dataframe\">\n",
       "  <thead>\n",
       "    <tr style=\"text-align: right;\">\n",
       "      <th></th>\n",
       "      <th>mean_fit_time</th>\n",
       "      <th>std_fit_time</th>\n",
       "      <th>mean_score_time</th>\n",
       "      <th>std_score_time</th>\n",
       "      <th>param_n_neighbors</th>\n",
       "      <th>params</th>\n",
       "      <th>split0_test_score</th>\n",
       "      <th>split1_test_score</th>\n",
       "      <th>split2_test_score</th>\n",
       "      <th>split3_test_score</th>\n",
       "      <th>split4_test_score</th>\n",
       "      <th>split5_test_score</th>\n",
       "      <th>split6_test_score</th>\n",
       "      <th>split7_test_score</th>\n",
       "      <th>split8_test_score</th>\n",
       "      <th>split9_test_score</th>\n",
       "      <th>mean_test_score</th>\n",
       "      <th>std_test_score</th>\n",
       "      <th>rank_test_score</th>\n",
       "    </tr>\n",
       "  </thead>\n",
       "  <tbody>\n",
       "    <tr>\n",
       "      <th>0</th>\n",
       "      <td>0.003393</td>\n",
       "      <td>0.000488</td>\n",
       "      <td>0.011031</td>\n",
       "      <td>0.001301</td>\n",
       "      <td>21</td>\n",
       "      <td>{'n_neighbors': 21}</td>\n",
       "      <td>0.922481</td>\n",
       "      <td>0.868217</td>\n",
       "      <td>0.872093</td>\n",
       "      <td>0.898833</td>\n",
       "      <td>0.891051</td>\n",
       "      <td>0.898833</td>\n",
       "      <td>0.879377</td>\n",
       "      <td>0.887160</td>\n",
       "      <td>0.898833</td>\n",
       "      <td>0.910506</td>\n",
       "      <td>0.892738</td>\n",
       "      <td>0.015974</td>\n",
       "      <td>6</td>\n",
       "    </tr>\n",
       "    <tr>\n",
       "      <th>1</th>\n",
       "      <td>0.001200</td>\n",
       "      <td>0.001469</td>\n",
       "      <td>0.010878</td>\n",
       "      <td>0.005426</td>\n",
       "      <td>8</td>\n",
       "      <td>{'n_neighbors': 8}</td>\n",
       "      <td>0.937984</td>\n",
       "      <td>0.883721</td>\n",
       "      <td>0.875969</td>\n",
       "      <td>0.879377</td>\n",
       "      <td>0.891051</td>\n",
       "      <td>0.910506</td>\n",
       "      <td>0.883268</td>\n",
       "      <td>0.879377</td>\n",
       "      <td>0.879377</td>\n",
       "      <td>0.891051</td>\n",
       "      <td>0.891168</td>\n",
       "      <td>0.018253</td>\n",
       "      <td>14</td>\n",
       "    </tr>\n",
       "    <tr>\n",
       "      <th>2</th>\n",
       "      <td>0.003124</td>\n",
       "      <td>0.006249</td>\n",
       "      <td>0.007817</td>\n",
       "      <td>0.007817</td>\n",
       "      <td>6</td>\n",
       "      <td>{'n_neighbors': 6}</td>\n",
       "      <td>0.930233</td>\n",
       "      <td>0.875969</td>\n",
       "      <td>0.856589</td>\n",
       "      <td>0.883268</td>\n",
       "      <td>0.894942</td>\n",
       "      <td>0.898833</td>\n",
       "      <td>0.887160</td>\n",
       "      <td>0.875486</td>\n",
       "      <td>0.883268</td>\n",
       "      <td>0.898833</td>\n",
       "      <td>0.888458</td>\n",
       "      <td>0.018433</td>\n",
       "      <td>17</td>\n",
       "    </tr>\n",
       "  </tbody>\n",
       "</table>\n",
       "</div>"
      ],
      "text/plain": [
       "   mean_fit_time  std_fit_time  mean_score_time  std_score_time  \\\n",
       "0       0.003393      0.000488         0.011031        0.001301   \n",
       "1       0.001200      0.001469         0.010878        0.005426   \n",
       "2       0.003124      0.006249         0.007817        0.007817   \n",
       "\n",
       "  param_n_neighbors               params  split0_test_score  \\\n",
       "0                21  {'n_neighbors': 21}           0.922481   \n",
       "1                 8   {'n_neighbors': 8}           0.937984   \n",
       "2                 6   {'n_neighbors': 6}           0.930233   \n",
       "\n",
       "   split1_test_score  split2_test_score  split3_test_score  split4_test_score  \\\n",
       "0           0.868217           0.872093           0.898833           0.891051   \n",
       "1           0.883721           0.875969           0.879377           0.891051   \n",
       "2           0.875969           0.856589           0.883268           0.894942   \n",
       "\n",
       "   split5_test_score  split6_test_score  split7_test_score  split8_test_score  \\\n",
       "0           0.898833           0.879377           0.887160           0.898833   \n",
       "1           0.910506           0.883268           0.879377           0.879377   \n",
       "2           0.898833           0.887160           0.875486           0.883268   \n",
       "\n",
       "   split9_test_score  mean_test_score  std_test_score  rank_test_score  \n",
       "0           0.910506         0.892738        0.015974                6  \n",
       "1           0.891051         0.891168        0.018253               14  \n",
       "2           0.898833         0.888458        0.018433               17  "
      ]
     },
     "execution_count": 28,
     "metadata": {},
     "output_type": "execute_result"
    }
   ],
   "source": [
    "pd.DataFrame(random.cv_results_).head(3)"
   ]
  },
  {
   "cell_type": "code",
   "execution_count": 29,
   "metadata": {
    "slideshow": {
     "slide_type": "fragment"
    }
   },
   "outputs": [
    {
     "name": "stdout",
     "output_type": "stream",
     "text": [
      "KNeighborsClassifier(n_neighbors=13)\n",
      "0.8966171990468436\n",
      "{'n_neighbors': 13}\n"
     ]
    }
   ],
   "source": [
    "print (random.best_estimator_)\n",
    "print(random.best_score_)\n",
    "print(random.best_params_)"
   ]
  },
  {
   "cell_type": "markdown",
   "metadata": {
    "slideshow": {
     "slide_type": "subslide"
    }
   },
   "source": [
    "Vemos que `RandomizedSearchCV` en este caso obtuvo el mismo resultado que `GridSearchCV`, aunque no probó tantas combinaciones."
   ]
  },
  {
   "cell_type": "code",
   "execution_count": 30,
   "metadata": {
    "slideshow": {
     "slide_type": "fragment"
    }
   },
   "outputs": [
    {
     "name": "stdout",
     "output_type": "stream",
     "text": [
      "              precision    recall  f1-score   support\n",
      "\n",
      "           0       0.91      0.88      0.90       645\n",
      "           1       0.84      0.88      0.86       458\n",
      "\n",
      "    accuracy                           0.88      1103\n",
      "   macro avg       0.88      0.88      0.88      1103\n",
      "weighted avg       0.88      0.88      0.88      1103\n",
      "\n"
     ]
    }
   ],
   "source": [
    "print (classification_report(y_test, random.predict(X_test)))"
   ]
  },
  {
   "cell_type": "code",
   "execution_count": 31,
   "metadata": {
    "slideshow": {
     "slide_type": "fragment"
    }
   },
   "outputs": [
    {
     "name": "stdout",
     "output_type": "stream",
     "text": [
      "[[567  78]\n",
      " [ 53 405]]\n"
     ]
    }
   ],
   "source": [
    "confusion = confusion_matrix(y_test, random.predict(X_test))\n",
    "print(confusion)"
   ]
  },
  {
   "cell_type": "markdown",
   "metadata": {
    "slideshow": {
     "slide_type": "fragment"
    }
   },
   "source": [
    "Y con los **datos de test** obtuvimos los mismos resultados."
   ]
  },
  {
   "cell_type": "markdown",
   "metadata": {
    "slideshow": {
     "slide_type": "slide"
    }
   },
   "source": [
    "<div class=\"div-dhds-fondo-1\"> Resumen\n",
    "<img src=\"https://raw.githubusercontent.com/Digital-House-DATA/ds_blend_2021_img/master/M3/CLASE_21_Regresion_Lineal_Simple/Presentacion/img/M3_CLASE_21_separador.png\" align=\"center\" />\n",
    "\n",
    "</div>"
   ]
  },
  {
   "cell_type": "markdown",
   "metadata": {
    "slideshow": {
     "slide_type": "slide"
    }
   },
   "source": [
    "### Resumen Grid Search\n",
    "\n",
    "---\n",
    "\n",
    "- Los **hiperparámetros** son aquellas características externas de un modelo que no se \"aprenden\" de forma directa a partir del entrenamiento con los datos, sino que tienen que definirse con anterioridad.\n",
    "\n",
    "- Los **parámetros** de un modelo son características o propiedades internas cuyos valores son estimados a partir del entrenamiento con los datos.\n",
    "\n",
    "- Los **hiperparámetros** son muy importantes a la hora de entrenar un modelo ya que van a impactar en su desempeño y no se puede saber **a priori** cuáles son los mejores.\n",
    "\n",
    "- Existen dos grandes métodos o procesos (aunque no son los únicos) que nos permiten buscar cuáles son los mejores **hiperparámetros** (**hyper-parameter tunning**): \n",
    "\n",
    "    - [`GridSearch`](https://scikit-learn.org/stable/modules/generated/sklearn.model_selection.GridSearchCV.html) se caracteriza por hacer una búsqueda **exhaustiva para cada valor de la grilla de hiperparámetros** y elige la combinación de ellos que maximiza una métrica determinada.\n",
    "\n",
    "    - [`RandomizedSearch`](https://scikit-learn.org/stable/modules/generated/sklearn.model_selection.RandomizedSearchCV.html) realiza la búsqueda de la mejor combinación de **hiperparámetros** pero a partir de seleccionar en forma **aleatoria** un **subset** de los **hiperparámetros**, lo que achica el espacio de búsqueda y reduce el tiempo de cómputo."
   ]
  },
  {
   "cell_type": "markdown",
   "metadata": {
    "slideshow": {
     "slide_type": "subslide"
    }
   },
   "source": [
    "- La receta general para la búsqueda de **hiperparámetros** consta de: \n",
    "    - Elegir un **estimador (modelo)**\n",
    "    - Elegir un **espacio de hiperparámetros**\n",
    "    - Elegir un **método de búsqueda** (`RandomSearch`,`GridSearch`).\n",
    "    - Definir un **esquema de validación cruzada**\n",
    "    - Definir una **métrica de evaluación**"
   ]
  },
  {
   "cell_type": "markdown",
   "metadata": {
    "slideshow": {
     "slide_type": "slide"
    }
   },
   "source": [
    "<div class=\"div-dhds-fondo-1\"> Hands-on\n",
    "<img src=\"https://raw.githubusercontent.com/Digital-House-DATA/ds_blend_2021_img/master/M3/CLASE_21_Regresion_Lineal_Simple/Presentacion/img/M3_CLASE_21_separador.png\" align=\"center\" />\n",
    "\n",
    "</div>"
   ]
  },
  {
   "cell_type": "markdown",
   "metadata": {
    "slideshow": {
     "slide_type": "slide"
    }
   },
   "source": [
    "### Ejercicio\n",
    "\n",
    "----\n",
    "\n",
    "- Usando el dataset de abalones, generamos dos modelos:\n",
    "     - Con el método KNN, para 50 vecinos.\n",
    "     - Con Naive Bayes.\n",
    "\n",
    "- Calculamos para cada modelo la *Matriz de confusion*.\n",
    "\n",
    "- Calculamos para cada modelo las métricas: *Accuracy, Sensitivity o Recall, Precision y  Specificity*.\n",
    "\n",
    "- Comparamos los dos modelos. Cual es el que ajusta mejor?\n",
    "\n",
    "- Usemos una curva ROC para compararlos. Verifica lo anterior?"
   ]
  },
  {
   "cell_type": "code",
   "execution_count": 32,
   "metadata": {
    "slideshow": {
     "slide_type": "fragment"
    }
   },
   "outputs": [],
   "source": [
    "from sklearn import preprocessing\n",
    "from sklearn.model_selection import train_test_split\n",
    "from sklearn.datasets import make_classification\n",
    "import matplotlib.pyplot as plt\n",
    "import pandas as pd\n",
    "import numpy as np\n",
    "import seaborn as sns"
   ]
  },
  {
   "cell_type": "markdown",
   "metadata": {
    "slideshow": {
     "slide_type": "subslide"
    }
   },
   "source": [
    "Leemos el dataset."
   ]
  },
  {
   "cell_type": "code",
   "execution_count": 34,
   "metadata": {
    "slideshow": {
     "slide_type": "fragment"
    }
   },
   "outputs": [
    {
     "name": "stdout",
     "output_type": "stream",
     "text": [
      "Filas: 3676 Columnas: 10\n"
     ]
    },
    {
     "data": {
      "text/html": [
       "<div>\n",
       "<style scoped>\n",
       "    .dataframe tbody tr th:only-of-type {\n",
       "        vertical-align: middle;\n",
       "    }\n",
       "\n",
       "    .dataframe tbody tr th {\n",
       "        vertical-align: top;\n",
       "    }\n",
       "\n",
       "    .dataframe thead th {\n",
       "        text-align: right;\n",
       "    }\n",
       "</style>\n",
       "<table border=\"1\" class=\"dataframe\">\n",
       "  <thead>\n",
       "    <tr style=\"text-align: right;\">\n",
       "      <th></th>\n",
       "      <th>Sex</th>\n",
       "      <th>Length</th>\n",
       "      <th>Diameter</th>\n",
       "      <th>Height</th>\n",
       "      <th>Whole_weight</th>\n",
       "      <th>Shucked_weight</th>\n",
       "      <th>Viscera_weight</th>\n",
       "      <th>Shell_weight</th>\n",
       "      <th>Rings</th>\n",
       "      <th>Adulto</th>\n",
       "    </tr>\n",
       "  </thead>\n",
       "  <tbody>\n",
       "    <tr>\n",
       "      <th>1362</th>\n",
       "      <td>F</td>\n",
       "      <td>0.605</td>\n",
       "      <td>0.470</td>\n",
       "      <td>0.160</td>\n",
       "      <td>10.835</td>\n",
       "      <td>0.5405</td>\n",
       "      <td>0.2215</td>\n",
       "      <td>0.2750</td>\n",
       "      <td>12</td>\n",
       "      <td>1</td>\n",
       "    </tr>\n",
       "    <tr>\n",
       "      <th>2592</th>\n",
       "      <td>M</td>\n",
       "      <td>0.590</td>\n",
       "      <td>0.465</td>\n",
       "      <td>0.140</td>\n",
       "      <td>1.046</td>\n",
       "      <td>0.4695</td>\n",
       "      <td>0.2630</td>\n",
       "      <td>0.2630</td>\n",
       "      <td>7</td>\n",
       "      <td>0</td>\n",
       "    </tr>\n",
       "    <tr>\n",
       "      <th>1521</th>\n",
       "      <td>F</td>\n",
       "      <td>0.680</td>\n",
       "      <td>0.500</td>\n",
       "      <td>0.185</td>\n",
       "      <td>1.741</td>\n",
       "      <td>0.7665</td>\n",
       "      <td>0.3255</td>\n",
       "      <td>0.4685</td>\n",
       "      <td>12</td>\n",
       "      <td>1</td>\n",
       "    </tr>\n",
       "  </tbody>\n",
       "</table>\n",
       "</div>"
      ],
      "text/plain": [
       "     Sex  Length  Diameter  Height  Whole_weight  Shucked_weight  \\\n",
       "1362   F   0.605     0.470   0.160        10.835          0.5405   \n",
       "2592   M   0.590     0.465   0.140         1.046          0.4695   \n",
       "1521   F   0.680     0.500   0.185         1.741          0.7665   \n",
       "\n",
       "      Viscera_weight  Shell_weight  Rings  Adulto  \n",
       "1362          0.2215        0.2750     12       1  \n",
       "2592          0.2630        0.2630      7       0  \n",
       "1521          0.3255        0.4685     12       1  "
      ]
     },
     "execution_count": 34,
     "metadata": {},
     "output_type": "execute_result"
    }
   ],
   "source": [
    "df = pd.read_csv('abalone.csv', sep=';')\n",
    "print('Filas:', df.shape[0], 'Columnas:', df.shape[1])\n",
    "df.sample(3)"
   ]
  },
  {
   "cell_type": "markdown",
   "metadata": {
    "slideshow": {
     "slide_type": "fragment"
    }
   },
   "source": [
    "Armamos la matriz de features ($X$) y el target ($y$)."
   ]
  },
  {
   "cell_type": "code",
   "execution_count": 35,
   "metadata": {
    "slideshow": {
     "slide_type": "fragment"
    }
   },
   "outputs": [],
   "source": [
    "X = df.drop(['Adulto','Sex'], axis=1)\n",
    "y = df['Adulto']"
   ]
  },
  {
   "cell_type": "markdown",
   "metadata": {
    "slideshow": {
     "slide_type": "fragment"
    }
   },
   "source": [
    "Generamos los datasets de Train y Test."
   ]
  },
  {
   "cell_type": "code",
   "execution_count": 36,
   "metadata": {
    "slideshow": {
     "slide_type": "fragment"
    }
   },
   "outputs": [],
   "source": [
    "# Generamos los datasets de train y test.\n",
    "from sklearn.model_selection import train_test_split\n",
    "X_train, X_test, y_train, y_test = train_test_split(X, y,random_state=2)"
   ]
  },
  {
   "cell_type": "markdown",
   "metadata": {
    "slideshow": {
     "slide_type": "slide"
    }
   },
   "source": [
    "Creamos el modelo KNN para 50 vecinos. Predecimos las clases para los datos de Test."
   ]
  },
  {
   "cell_type": "code",
   "execution_count": 37,
   "metadata": {
    "colab": {},
    "colab_type": "code",
    "id": "4uqP_8_yYZs-",
    "slideshow": {
     "slide_type": "fragment"
    }
   },
   "outputs": [],
   "source": [
    "from sklearn.neighbors import KNeighborsClassifier\n",
    "knn = KNeighborsClassifier(n_neighbors=50)\n",
    "knn.fit(X_train, y_train);\n",
    "y_pred_knn = knn.predict(X_test)"
   ]
  },
  {
   "cell_type": "markdown",
   "metadata": {
    "slideshow": {
     "slide_type": "fragment"
    }
   },
   "source": [
    "Creamos el modelo Naive Bayes. Predecimos las clases para los datos de Test."
   ]
  },
  {
   "cell_type": "code",
   "execution_count": 38,
   "metadata": {
    "slideshow": {
     "slide_type": "fragment"
    }
   },
   "outputs": [],
   "source": [
    "from sklearn.naive_bayes import GaussianNB\n",
    "gnb = GaussianNB()\n",
    "gnb.fit(X_train, y_train)\n",
    "y_pred_bayes = gnb.predict(X_test)"
   ]
  },
  {
   "cell_type": "markdown",
   "metadata": {
    "slideshow": {
     "slide_type": "fragment"
    }
   },
   "source": [
    "**Matriz de confusión**"
   ]
  },
  {
   "cell_type": "code",
   "execution_count": 39,
   "metadata": {
    "slideshow": {
     "slide_type": "fragment"
    }
   },
   "outputs": [],
   "source": [
    "from sklearn.metrics import confusion_matrix\n",
    "#confusion_knn = \n",
    "#print('KNN\\n',confusion_knn)\n",
    "\n",
    "#confusion_bayes = \n",
    "#print('Bayes\\n',confusion_bayes)"
   ]
  },
  {
   "cell_type": "markdown",
   "metadata": {
    "slideshow": {
     "slide_type": "subslide"
    }
   },
   "source": [
    "**Accuracy**"
   ]
  },
  {
   "cell_type": "code",
   "execution_count": 40,
   "metadata": {
    "slideshow": {
     "slide_type": "fragment"
    }
   },
   "outputs": [],
   "source": [
    "from sklearn.metrics import accuracy_score\n",
    "#accuracy_knn =\n",
    "#accuracy_bayes =\n",
    "#print('Accuracy KNN =',accuracy_knn)\n",
    "#print('Accuracy Bayes =',accuracy_bayes)"
   ]
  },
  {
   "cell_type": "markdown",
   "metadata": {
    "slideshow": {
     "slide_type": "fragment"
    }
   },
   "source": [
    "**Recall**"
   ]
  },
  {
   "cell_type": "code",
   "execution_count": 41,
   "metadata": {
    "slideshow": {
     "slide_type": "fragment"
    }
   },
   "outputs": [],
   "source": [
    "from sklearn.metrics import recall_score\n",
    "#recall_knn = \n",
    "#recall_bayes = \n",
    "#print('Recall KNN =', recall_knn)\n",
    "#print('Recall Bayes =', recall_bayes)"
   ]
  },
  {
   "cell_type": "markdown",
   "metadata": {
    "slideshow": {
     "slide_type": "fragment"
    }
   },
   "source": [
    "**Precision**"
   ]
  },
  {
   "cell_type": "code",
   "execution_count": 42,
   "metadata": {
    "slideshow": {
     "slide_type": "fragment"
    }
   },
   "outputs": [],
   "source": [
    "from sklearn.metrics import precision_score\n",
    "#precision_knn =\n",
    "#precision_bayes = \n",
    "#print('Precision KNN =', precision_knn)\n",
    "#print('Precision Bayes =', precision_bayes)"
   ]
  },
  {
   "cell_type": "markdown",
   "metadata": {
    "slideshow": {
     "slide_type": "subslide"
    }
   },
   "source": [
    "**Specificity**"
   ]
  },
  {
   "cell_type": "code",
   "execution_count": 43,
   "metadata": {
    "slideshow": {
     "slide_type": "fragment"
    }
   },
   "outputs": [],
   "source": [
    "# definimos la función que va a tomar como argumentos los valores reales y los predichos\n",
    "def specificity(y_true, y_pred):\n",
    "    tn, fp, fn, tp = confusion_matrix(y_true, y_pred).ravel()\n",
    "    sp = tn / (tn+fp)\n",
    "    return(sp)\n",
    "\n",
    "#specificity_knn = \n",
    "#specificity_bayes = \n",
    "\n",
    "#print('Specificity KNN =', specificity_knn)\n",
    "#print('Specificity Bayes =', specificity_bayes)"
   ]
  },
  {
   "cell_type": "markdown",
   "metadata": {
    "slideshow": {
     "slide_type": "slide"
    }
   },
   "source": [
    "Está claro que el modelo xxxx predice mejor que el modelo yyyy *para este dataset*. Todas las métricas lo indican.\n",
    "\n",
    "Veamos ahora ambas curvas ROC:"
   ]
  },
  {
   "cell_type": "markdown",
   "metadata": {
    "slideshow": {
     "slide_type": "fragment"
    }
   },
   "source": [
    "Recordemos que previamente debemos obtener la probabilidad de pertenecer a la clase positiva."
   ]
  },
  {
   "cell_type": "code",
   "execution_count": 44,
   "metadata": {
    "slideshow": {
     "slide_type": "fragment"
    }
   },
   "outputs": [],
   "source": [
    "#y_pred_knn_proba = \n",
    "#y_pred_bayes_proba = "
   ]
  },
  {
   "cell_type": "code",
   "execution_count": 45,
   "metadata": {
    "slideshow": {
     "slide_type": "fragment"
    }
   },
   "outputs": [],
   "source": [
    "from sklearn.metrics import roc_curve\n",
    "#fpr_log_knn,tpr_log_knn,thr_log_knn = roc_curve(y_test, y_pred_knn_proba[:,1])\n",
    "#fpr_log_bayes,tpr_log_bayes,thr_log_bayes = roc_curve(y_test, y_pred_bayes_proba[:,1])"
   ]
  },
  {
   "cell_type": "markdown",
   "metadata": {
    "slideshow": {
     "slide_type": "subslide"
    }
   },
   "source": [
    "Convertimos los valores en un objeto dataframe y graficamos la curva ROC. \n",
    "\n",
    "Observamos nuevamente que el modelo xxxx estima mejor; está más cerca de la curva perfecta."
   ]
  },
  {
   "cell_type": "code",
   "execution_count": 46,
   "metadata": {
    "slideshow": {
     "slide_type": "fragment"
    }
   },
   "outputs": [],
   "source": [
    "#df_knn = pd.DataFrame(dict(fpr= , tpr=, thr = ))\n",
    "#plt.plot(df_knn['fpr'],df_knn['tpr'], label='KNN')\n",
    "\n",
    "#df_bayes = pd.DataFrame(dict(fpr= , tpr= , thr = ))\n",
    "#plt.plot(df_bayes['fpr'],df_bayes['tpr'], label='Bayes')\n",
    "\n",
    "#plt.axis([0, 1.01, 0, 1.01]); plt.legend()\n",
    "#plt.xlabel('1 - Specificty'); plt.ylabel('TPR / Sensitivity'); plt.title('ROC Curve')\n",
    "#plt.plot(np.arange(0,1, step =0.01), np.arange(0,1, step =0.01))\n",
    "#plt.show()"
   ]
  },
  {
   "cell_type": "markdown",
   "metadata": {
    "slideshow": {
     "slide_type": "slide"
    }
   },
   "source": [
    "### Solución\n",
    "\n",
    "---"
   ]
  },
  {
   "cell_type": "markdown",
   "metadata": {
    "slideshow": {
     "slide_type": "slide"
    }
   },
   "source": [
    "### Ejercicio\n",
    "\n",
    "----\n",
    "\n",
    "- Usando el dataset de abalones, generamos dos modelos:\n",
    "     - Con el método KNN, para 50 vecinos.\n",
    "     - Con Naive Bayes.\n",
    "\n",
    "- Calculamos para cada modelo la *Matriz de confusion*.\n",
    "\n",
    "- Calculamos para cada modelo las métricas: *Accuracy, Sensitivity o Recall, Precision y  Specificity*.\n",
    "\n",
    "- Comparamos los dos modelos. Cual es el que ajusta mejor?\n",
    "\n",
    "- Usemos una curva ROC para compararlos. Verifica lo anterior?"
   ]
  },
  {
   "cell_type": "code",
   "execution_count": 47,
   "metadata": {
    "slideshow": {
     "slide_type": "skip"
    }
   },
   "outputs": [],
   "source": [
    "from sklearn import preprocessing\n",
    "from sklearn.model_selection import train_test_split\n",
    "from sklearn.datasets import make_classification\n",
    "import matplotlib.pyplot as plt\n",
    "import pandas as pd\n",
    "import numpy as np\n",
    "import seaborn as sns"
   ]
  },
  {
   "cell_type": "markdown",
   "metadata": {
    "slideshow": {
     "slide_type": "fragment"
    }
   },
   "source": [
    "Leemos el dataset."
   ]
  },
  {
   "cell_type": "code",
   "execution_count": 50,
   "metadata": {
    "slideshow": {
     "slide_type": "fragment"
    }
   },
   "outputs": [
    {
     "name": "stdout",
     "output_type": "stream",
     "text": [
      "Filas: 3676 Columnas: 10\n"
     ]
    },
    {
     "data": {
      "text/html": [
       "<div>\n",
       "<style scoped>\n",
       "    .dataframe tbody tr th:only-of-type {\n",
       "        vertical-align: middle;\n",
       "    }\n",
       "\n",
       "    .dataframe tbody tr th {\n",
       "        vertical-align: top;\n",
       "    }\n",
       "\n",
       "    .dataframe thead th {\n",
       "        text-align: right;\n",
       "    }\n",
       "</style>\n",
       "<table border=\"1\" class=\"dataframe\">\n",
       "  <thead>\n",
       "    <tr style=\"text-align: right;\">\n",
       "      <th></th>\n",
       "      <th>Sex</th>\n",
       "      <th>Length</th>\n",
       "      <th>Diameter</th>\n",
       "      <th>Height</th>\n",
       "      <th>Whole_weight</th>\n",
       "      <th>Shucked_weight</th>\n",
       "      <th>Viscera_weight</th>\n",
       "      <th>Shell_weight</th>\n",
       "      <th>Rings</th>\n",
       "      <th>Adulto</th>\n",
       "    </tr>\n",
       "  </thead>\n",
       "  <tbody>\n",
       "    <tr>\n",
       "      <th>3369</th>\n",
       "      <td>I</td>\n",
       "      <td>0.425</td>\n",
       "      <td>0.325</td>\n",
       "      <td>0.110</td>\n",
       "      <td>0.405</td>\n",
       "      <td>0.1695</td>\n",
       "      <td>0.0920</td>\n",
       "      <td>0.1065</td>\n",
       "      <td>8</td>\n",
       "      <td>0</td>\n",
       "    </tr>\n",
       "    <tr>\n",
       "      <th>2043</th>\n",
       "      <td>I</td>\n",
       "      <td>0.395</td>\n",
       "      <td>0.295</td>\n",
       "      <td>0.100</td>\n",
       "      <td>0.293</td>\n",
       "      <td>0.1400</td>\n",
       "      <td>0.0620</td>\n",
       "      <td>0.0820</td>\n",
       "      <td>7</td>\n",
       "      <td>0</td>\n",
       "    </tr>\n",
       "    <tr>\n",
       "      <th>1735</th>\n",
       "      <td>M</td>\n",
       "      <td>0.670</td>\n",
       "      <td>0.520</td>\n",
       "      <td>0.165</td>\n",
       "      <td>1.390</td>\n",
       "      <td>0.7110</td>\n",
       "      <td>0.2865</td>\n",
       "      <td>0.3000</td>\n",
       "      <td>11</td>\n",
       "      <td>0</td>\n",
       "    </tr>\n",
       "  </tbody>\n",
       "</table>\n",
       "</div>"
      ],
      "text/plain": [
       "     Sex  Length  Diameter  Height  Whole_weight  Shucked_weight  \\\n",
       "3369   I   0.425     0.325   0.110         0.405          0.1695   \n",
       "2043   I   0.395     0.295   0.100         0.293          0.1400   \n",
       "1735   M   0.670     0.520   0.165         1.390          0.7110   \n",
       "\n",
       "      Viscera_weight  Shell_weight  Rings  Adulto  \n",
       "3369          0.0920        0.1065      8       0  \n",
       "2043          0.0620        0.0820      7       0  \n",
       "1735          0.2865        0.3000     11       0  "
      ]
     },
     "execution_count": 50,
     "metadata": {},
     "output_type": "execute_result"
    }
   ],
   "source": [
    "df = pd.read_csv('abalone.csv', sep=';')\n",
    "print('Filas:', df.shape[0], 'Columnas:', df.shape[1])\n",
    "df.sample(3)"
   ]
  },
  {
   "cell_type": "markdown",
   "metadata": {
    "slideshow": {
     "slide_type": "subslide"
    }
   },
   "source": [
    "Armamos la matriz de features ($X$) y el target ($y$)."
   ]
  },
  {
   "cell_type": "code",
   "execution_count": 51,
   "metadata": {
    "slideshow": {
     "slide_type": "fragment"
    }
   },
   "outputs": [],
   "source": [
    "X = df.drop(['Adulto','Sex'], axis=1)\n",
    "y = df['Adulto']"
   ]
  },
  {
   "cell_type": "markdown",
   "metadata": {
    "slideshow": {
     "slide_type": "fragment"
    }
   },
   "source": [
    "Generamos los datasets de Train y Test."
   ]
  },
  {
   "cell_type": "code",
   "execution_count": 52,
   "metadata": {
    "slideshow": {
     "slide_type": "fragment"
    }
   },
   "outputs": [],
   "source": [
    "# Generamos los datasets de train y test.\n",
    "from sklearn.model_selection import train_test_split\n",
    "X_train, X_test, y_train, y_test = train_test_split(X, y,random_state=2)"
   ]
  },
  {
   "cell_type": "markdown",
   "metadata": {
    "slideshow": {
     "slide_type": "fragment"
    }
   },
   "source": [
    "Creamos el modelo KNN para 50 vecinos. Predecimos las clases para los datos de Test."
   ]
  },
  {
   "cell_type": "code",
   "execution_count": 53,
   "metadata": {
    "colab": {},
    "colab_type": "code",
    "id": "4uqP_8_yYZs-",
    "slideshow": {
     "slide_type": "fragment"
    }
   },
   "outputs": [],
   "source": [
    "from sklearn.neighbors import KNeighborsClassifier\n",
    "knn = KNeighborsClassifier(n_neighbors=50)\n",
    "knn.fit(X_train, y_train);\n",
    "y_pred_knn = knn.predict(X_test)"
   ]
  },
  {
   "cell_type": "markdown",
   "metadata": {
    "slideshow": {
     "slide_type": "fragment"
    }
   },
   "source": [
    "Creamos el modelo Naive Bayes. Predecimos las clases para los datos de Test."
   ]
  },
  {
   "cell_type": "code",
   "execution_count": 54,
   "metadata": {
    "slideshow": {
     "slide_type": "fragment"
    }
   },
   "outputs": [],
   "source": [
    "from sklearn.naive_bayes import GaussianNB\n",
    "gnb = GaussianNB()\n",
    "gnb.fit(X_train, y_train)\n",
    "y_pred_bayes = gnb.predict(X_test)"
   ]
  },
  {
   "cell_type": "markdown",
   "metadata": {
    "slideshow": {
     "slide_type": "slide"
    }
   },
   "source": [
    "**Matriz de confusión**"
   ]
  },
  {
   "cell_type": "code",
   "execution_count": 55,
   "metadata": {
    "slideshow": {
     "slide_type": "fragment"
    }
   },
   "outputs": [
    {
     "name": "stdout",
     "output_type": "stream",
     "text": [
      "KNN\n",
      " [[486  40]\n",
      " [ 30 363]]\n",
      "Bayes\n",
      " [[432  94]\n",
      " [ 90 303]]\n"
     ]
    }
   ],
   "source": [
    "from sklearn.metrics import confusion_matrix\n",
    "confusion_knn = confusion_matrix(y_test, y_pred_knn)\n",
    "print('KNN\\n',confusion_knn)\n",
    "\n",
    "confusion_bayes = confusion_matrix(y_test, y_pred_bayes)\n",
    "print('Bayes\\n',confusion_bayes)"
   ]
  },
  {
   "cell_type": "markdown",
   "metadata": {
    "slideshow": {
     "slide_type": "fragment"
    }
   },
   "source": [
    "**Accuracy**"
   ]
  },
  {
   "cell_type": "code",
   "execution_count": 56,
   "metadata": {
    "slideshow": {
     "slide_type": "fragment"
    }
   },
   "outputs": [
    {
     "name": "stdout",
     "output_type": "stream",
     "text": [
      "Accuracy KNN = 0.9238302502720348\n",
      "Accuracy Bayes = 0.7997823721436343\n"
     ]
    }
   ],
   "source": [
    "from sklearn.metrics import accuracy_score\n",
    "accuracy_knn = accuracy_score(y_test, y_pred_knn)\n",
    "accuracy_bayes = accuracy_score(y_test, y_pred_bayes)\n",
    "print('Accuracy KNN =',accuracy_knn)\n",
    "print('Accuracy Bayes =',accuracy_bayes)"
   ]
  },
  {
   "cell_type": "markdown",
   "metadata": {
    "slideshow": {
     "slide_type": "subslide"
    }
   },
   "source": [
    "**Recall**"
   ]
  },
  {
   "cell_type": "code",
   "execution_count": 57,
   "metadata": {
    "slideshow": {
     "slide_type": "fragment"
    }
   },
   "outputs": [
    {
     "name": "stdout",
     "output_type": "stream",
     "text": [
      "Recall KNN = 0.9236641221374046\n",
      "Recall Bayes = 0.7709923664122137\n"
     ]
    }
   ],
   "source": [
    "from sklearn.metrics import recall_score\n",
    "recall_knn = recall_score(y_test, y_pred_knn)\n",
    "recall_bayes = recall_score(y_test, y_pred_bayes)\n",
    "print('Recall KNN =', recall_knn)\n",
    "print('Recall Bayes =', recall_bayes)"
   ]
  },
  {
   "cell_type": "markdown",
   "metadata": {
    "slideshow": {
     "slide_type": "fragment"
    }
   },
   "source": [
    "**Precision**"
   ]
  },
  {
   "cell_type": "code",
   "execution_count": 58,
   "metadata": {
    "slideshow": {
     "slide_type": "fragment"
    }
   },
   "outputs": [
    {
     "name": "stdout",
     "output_type": "stream",
     "text": [
      "Precision KNN = 0.9007444168734491\n",
      "Precision Bayes = 0.7632241813602015\n"
     ]
    }
   ],
   "source": [
    "from sklearn.metrics import precision_score\n",
    "precision_knn = precision_score(y_test, y_pred_knn)\n",
    "precision_bayes = precision_score(y_test, y_pred_bayes)\n",
    "print('Precision KNN =', precision_knn)\n",
    "print('Precision Bayes =', precision_bayes)"
   ]
  },
  {
   "cell_type": "markdown",
   "metadata": {
    "slideshow": {
     "slide_type": "subslide"
    }
   },
   "source": [
    "**Specificity**"
   ]
  },
  {
   "cell_type": "code",
   "execution_count": 59,
   "metadata": {
    "slideshow": {
     "slide_type": "fragment"
    }
   },
   "outputs": [
    {
     "name": "stdout",
     "output_type": "stream",
     "text": [
      "Specificity KNN = 0.9239543726235742\n",
      "Specificity Bayes = 0.8212927756653993\n"
     ]
    }
   ],
   "source": [
    "# definimos la función que va a tomar como argumentos los valores reales y los predichos\n",
    "def specificity(y_true, y_pred):\n",
    "    tn, fp, fn, tp = confusion_matrix(y_true, y_pred).ravel()\n",
    "    sp = tn / (tn+fp)\n",
    "    return(sp)\n",
    "\n",
    "specificity_knn = specificity(y_test, y_pred_knn)\n",
    "specificity_bayes = specificity(y_test, y_pred_bayes)\n",
    "\n",
    "print('Specificity KNN =', specificity_knn)\n",
    "print('Specificity Bayes =', specificity_bayes)"
   ]
  },
  {
   "cell_type": "markdown",
   "metadata": {
    "slideshow": {
     "slide_type": "slide"
    }
   },
   "source": [
    "Está claro que el modelo KNN predice mejor que Naive Bayes *para este dataset*. Todas las métricas lo indican.\n",
    "\n",
    "Veamos ahora ambas curvas ROC:"
   ]
  },
  {
   "cell_type": "markdown",
   "metadata": {
    "slideshow": {
     "slide_type": "fragment"
    }
   },
   "source": [
    "Recordemos que previamente debemos obtener la probabilidad de pertenecer a la clase positiva."
   ]
  },
  {
   "cell_type": "code",
   "execution_count": 60,
   "metadata": {
    "slideshow": {
     "slide_type": "fragment"
    }
   },
   "outputs": [],
   "source": [
    "y_pred_knn_proba = knn.predict_proba(X_test)\n",
    "y_pred_bayes_proba = gnb.predict_proba(X_test)"
   ]
  },
  {
   "cell_type": "code",
   "execution_count": 61,
   "metadata": {
    "slideshow": {
     "slide_type": "fragment"
    }
   },
   "outputs": [],
   "source": [
    "from sklearn.metrics import roc_curve\n",
    "fpr_log_knn,tpr_log_knn,thr_log_knn = roc_curve(y_test, y_pred_knn_proba[:,1])\n",
    "fpr_log_bayes,tpr_log_bayes,thr_log_bayes = roc_curve(y_test, y_pred_bayes_proba[:,1])"
   ]
  },
  {
   "cell_type": "markdown",
   "metadata": {
    "slideshow": {
     "slide_type": "subslide"
    }
   },
   "source": [
    "Convertimos los valores en un objeto dataframe y graficamos la curva ROC. \n",
    "\n",
    "Observamos nuevamente que el modelo KNN estima mejor; está más cerca de la curva perfecta."
   ]
  },
  {
   "cell_type": "code",
   "execution_count": 62,
   "metadata": {
    "slideshow": {
     "slide_type": "fragment"
    }
   },
   "outputs": [
    {
     "data": {
      "image/png": "[encoded data removed]",
      "text/plain": [
       "<Figure size 432x288 with 1 Axes>"
      ]
     },
     "metadata": {
      "needs_background": "light"
     },
     "output_type": "display_data"
    }
   ],
   "source": [
    "df_knn = pd.DataFrame(dict(fpr=fpr_log_knn, tpr=tpr_log_knn, thr = thr_log_knn))\n",
    "plt.plot(df_knn['fpr'],df_knn['tpr'], label='KNN')\n",
    "\n",
    "df_bayes = pd.DataFrame(dict(fpr=fpr_log_bayes, tpr=tpr_log_bayes, thr = thr_log_bayes))\n",
    "plt.plot(df_bayes['fpr'],df_bayes['tpr'], label='Bayes')\n",
    "\n",
    "plt.axis([0, 1.01, 0, 1.01]); plt.legend()\n",
    "plt.xlabel('1 - Specificty'); plt.ylabel('TPR / Sensitivity'); plt.title('ROC Curve')\n",
    "plt.plot(np.arange(0,1, step =0.01), np.arange(0,1, step =0.01))\n",
    "plt.show()"
   ]
  },
  {
   "cell_type": "markdown",
   "metadata": {
    "slideshow": {
     "slide_type": "slide"
    }
   },
   "source": [
    "<div class=\"div-dhds-fondo-1\"> Referencias y Material Adicional\n",
    "<img src=\"https://raw.githubusercontent.com/Digital-House-DATA/ds_blend_2021_img/master/M3/CLASE_21_Regresion_Lineal_Simple/Presentacion/img/M3_CLASE_21_separador.png\" align=\"center\" />\n",
    "\n",
    "</div>"
   ]
  },
  {
   "cell_type": "markdown",
   "metadata": {
    "slideshow": {
     "slide_type": "slide"
    }
   },
   "source": [
    "### Referencias y Material Adicional\n",
    "\n",
    "---\n",
    "\n",
    "<a href=\"https://scikit-learn.org/stable/modules/classes.html?highlight=metrics#module-sklearn.metrics\" target=\"_blank\">Scikit-learn: metrics</a>\n",
    "\n",
    "<a href=\"https://towardsdatascience.com/classification-metrics-thresholds-explained-caff18ad2747\" target=\"_blank\">Classification metrics thresholds explained</a>\n",
    "\n",
    "<a href=\"https://albertum.medium.com/short-introduction-to-roc-curve-ed137062672f\" target=\"_blank\">Short introduction to ROC curve</a>\n",
    "\n",
    "<a href=\"https://medium.com/analytics-vidhya/understanding-roc-and-auc-metrics-in-classification-tasks-e5e7594cd6b\" target=\"_blank\">Understanding ROC and AUC metrics in classification tasks</a>\n",
    "\n",
    "<a href=\"https://en.wikipedia.org/wiki/Hyperparameter_optimization\" target=\"_blank\">Hyperparameter optimization</a>\n",
    "\n",
    "<a href=\"https://scikit-learn.org/stable/modules/generated/sklearn.model_selection.GridSearchCV.html\" target=\"_blank\">Scikit-learn: Grid Search</a>\n",
    "\n",
    "<a href=\"https://scikit-learn.org/stable/modules/generated/sklearn.model_selection.RandomizedSearchCV.html\" target=\"_blank\">Scikit-learn: Random Search</a>\n",
    "\n",
    "<a href=\"https://www.kaggle.com/willkoehrsen/intro-to-model-tuning-grid-and-random-search\" target=\"_blank\">Intro to Model Tuning: Grid and Random Search</a>"
   ]
  }
 ],
 "metadata": {
  "kernelspec": {
   "display_name": "Python 3 (ipykernel)",
   "language": "python",
   "name": "python3"
  },
  "language_info": {
   "codemirror_mode": {
    "name": "ipython",
    "version": 3
   },
   "file_extension": ".py",
   "mimetype": "text/x-python",
   "name": "python",
   "nbconvert_exporter": "python",
   "pygments_lexer": "ipython3",
   "version": "3.8.12"
  }
 },
 "nbformat": 4,
 "nbformat_minor": 4
}
